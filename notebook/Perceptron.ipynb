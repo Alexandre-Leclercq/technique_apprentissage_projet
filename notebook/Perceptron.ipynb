{
 "cells": [
  {
   "cell_type": "code",
   "execution_count": 23,
   "id": "initial_id",
   "metadata": {
    "collapsed": true,
    "ExecuteTime": {
     "end_time": "2023-12-02T01:11:29.530089500Z",
     "start_time": "2023-12-02T01:11:29.458842500Z"
    }
   },
   "outputs": [],
   "source": [
    "import numpy as np\n",
    "import pandas as pd\n",
    "from sklearn.linear_model import Perceptron\n",
    "from sklearn.model_selection import train_test_split, GridSearchCV\n",
    "import matplotlib.pyplot as plt\n",
    "from umap import UMAP\n",
    "from sklearn.metrics import accuracy_score"
   ]
  },
  {
   "cell_type": "markdown",
   "source": [
    "### 1. Préparation des données"
   ],
   "metadata": {
    "collapsed": false
   },
   "id": "cdff98fdd5955857"
  },
  {
   "cell_type": "code",
   "execution_count": 6,
   "outputs": [
    {
     "data": {
      "text/plain": "   id      species   margin1   margin2   margin3   margin4   margin5  \\\n0   1  Acer_Opalus  0.007812  0.023438  0.023438  0.003906  0.011719   \n\n    margin6   margin7  margin8  ...  texture55  texture56  texture57  \\\n0  0.009766  0.027344      0.0  ...   0.007812        0.0    0.00293   \n\n   texture58  texture59  texture60  texture61  texture62  texture63  texture64  \n0    0.00293   0.035156        0.0        0.0   0.004883        0.0   0.025391  \n\n[1 rows x 194 columns]",
      "text/html": "<div>\n<style scoped>\n    .dataframe tbody tr th:only-of-type {\n        vertical-align: middle;\n    }\n\n    .dataframe tbody tr th {\n        vertical-align: top;\n    }\n\n    .dataframe thead th {\n        text-align: right;\n    }\n</style>\n<table border=\"1\" class=\"dataframe\">\n  <thead>\n    <tr style=\"text-align: right;\">\n      <th></th>\n      <th>id</th>\n      <th>species</th>\n      <th>margin1</th>\n      <th>margin2</th>\n      <th>margin3</th>\n      <th>margin4</th>\n      <th>margin5</th>\n      <th>margin6</th>\n      <th>margin7</th>\n      <th>margin8</th>\n      <th>...</th>\n      <th>texture55</th>\n      <th>texture56</th>\n      <th>texture57</th>\n      <th>texture58</th>\n      <th>texture59</th>\n      <th>texture60</th>\n      <th>texture61</th>\n      <th>texture62</th>\n      <th>texture63</th>\n      <th>texture64</th>\n    </tr>\n  </thead>\n  <tbody>\n    <tr>\n      <th>0</th>\n      <td>1</td>\n      <td>Acer_Opalus</td>\n      <td>0.007812</td>\n      <td>0.023438</td>\n      <td>0.023438</td>\n      <td>0.003906</td>\n      <td>0.011719</td>\n      <td>0.009766</td>\n      <td>0.027344</td>\n      <td>0.0</td>\n      <td>...</td>\n      <td>0.007812</td>\n      <td>0.0</td>\n      <td>0.00293</td>\n      <td>0.00293</td>\n      <td>0.035156</td>\n      <td>0.0</td>\n      <td>0.0</td>\n      <td>0.004883</td>\n      <td>0.0</td>\n      <td>0.025391</td>\n    </tr>\n  </tbody>\n</table>\n<p>1 rows × 194 columns</p>\n</div>"
     },
     "execution_count": 6,
     "metadata": {},
     "output_type": "execute_result"
    }
   ],
   "source": [
    "df_data = pd.read_csv('../data/train.csv')\n",
    "df_data.head(1)"
   ],
   "metadata": {
    "collapsed": false,
    "ExecuteTime": {
     "end_time": "2023-12-02T01:02:17.283910100Z",
     "start_time": "2023-12-02T01:02:17.182496800Z"
    }
   },
   "id": "4f3f30fd0b239786"
  },
  {
   "cell_type": "code",
   "execution_count": 7,
   "outputs": [],
   "source": [
    "X = df_data.copy().drop(['id', 'species'],axis='columns').values\n",
    "\n",
    "species = df_data['species'].unique()\n",
    "\n",
    "# Création des vecteurs one-hot pour la matrice de targets\n",
    "t = np.zeros(df_data.shape[0])\n",
    "for i in range(species.size):\n",
    "    t[df_data['species'] == species[i]] = i"
   ],
   "metadata": {
    "collapsed": false,
    "ExecuteTime": {
     "end_time": "2023-12-02T01:02:19.959970400Z",
     "start_time": "2023-12-02T01:02:19.802815200Z"
    }
   },
   "id": "8e2e969ee1f4ba2c"
  },
  {
   "cell_type": "code",
   "execution_count": 8,
   "outputs": [],
   "source": [
    "X_train, X_test, t_train, t_test = train_test_split(X, t, test_size=0.3, random_state=0)"
   ],
   "metadata": {
    "collapsed": false,
    "ExecuteTime": {
     "end_time": "2023-12-02T01:02:19.960945800Z",
     "start_time": "2023-12-02T01:02:19.870641300Z"
    }
   },
   "id": "606d873b740a9b8f"
  },
  {
   "cell_type": "code",
   "execution_count": 90,
   "outputs": [],
   "source": [
    "#création des listes des valeurs d'hyper-paramètres possibles et choix du maximum d'itérations\n",
    "all_values_lr = np.logspace(-9, 0, 10)\n",
    "all_values_alpha = np.logspace(-9, 0, 10)\n",
    "max_iter = 100000"
   ],
   "metadata": {
    "collapsed": false,
    "ExecuteTime": {
     "end_time": "2023-12-02T01:56:54.676524500Z",
     "start_time": "2023-12-02T01:56:54.653100100Z"
    }
   },
   "id": "3857b337ea5b556c"
  },
  {
   "cell_type": "markdown",
   "source": [
    "### 2. Perceptron sans optimisation de paramètres"
   ],
   "metadata": {
    "collapsed": false
   },
   "id": "932aff485d1c8c6d"
  },
  {
   "cell_type": "code",
   "execution_count": 18,
   "outputs": [
    {
     "data": {
      "text/plain": "Perceptron(alpha=0.01, eta0=0.01, max_iter=100000)",
      "text/html": "<style>#sk-container-id-4 {color: black;}#sk-container-id-4 pre{padding: 0;}#sk-container-id-4 div.sk-toggleable {background-color: white;}#sk-container-id-4 label.sk-toggleable__label {cursor: pointer;display: block;width: 100%;margin-bottom: 0;padding: 0.3em;box-sizing: border-box;text-align: center;}#sk-container-id-4 label.sk-toggleable__label-arrow:before {content: \"▸\";float: left;margin-right: 0.25em;color: #696969;}#sk-container-id-4 label.sk-toggleable__label-arrow:hover:before {color: black;}#sk-container-id-4 div.sk-estimator:hover label.sk-toggleable__label-arrow:before {color: black;}#sk-container-id-4 div.sk-toggleable__content {max-height: 0;max-width: 0;overflow: hidden;text-align: left;background-color: #f0f8ff;}#sk-container-id-4 div.sk-toggleable__content pre {margin: 0.2em;color: black;border-radius: 0.25em;background-color: #f0f8ff;}#sk-container-id-4 input.sk-toggleable__control:checked~div.sk-toggleable__content {max-height: 200px;max-width: 100%;overflow: auto;}#sk-container-id-4 input.sk-toggleable__control:checked~label.sk-toggleable__label-arrow:before {content: \"▾\";}#sk-container-id-4 div.sk-estimator input.sk-toggleable__control:checked~label.sk-toggleable__label {background-color: #d4ebff;}#sk-container-id-4 div.sk-label input.sk-toggleable__control:checked~label.sk-toggleable__label {background-color: #d4ebff;}#sk-container-id-4 input.sk-hidden--visually {border: 0;clip: rect(1px 1px 1px 1px);clip: rect(1px, 1px, 1px, 1px);height: 1px;margin: -1px;overflow: hidden;padding: 0;position: absolute;width: 1px;}#sk-container-id-4 div.sk-estimator {font-family: monospace;background-color: #f0f8ff;border: 1px dotted black;border-radius: 0.25em;box-sizing: border-box;margin-bottom: 0.5em;}#sk-container-id-4 div.sk-estimator:hover {background-color: #d4ebff;}#sk-container-id-4 div.sk-parallel-item::after {content: \"\";width: 100%;border-bottom: 1px solid gray;flex-grow: 1;}#sk-container-id-4 div.sk-label:hover label.sk-toggleable__label {background-color: #d4ebff;}#sk-container-id-4 div.sk-serial::before {content: \"\";position: absolute;border-left: 1px solid gray;box-sizing: border-box;top: 0;bottom: 0;left: 50%;z-index: 0;}#sk-container-id-4 div.sk-serial {display: flex;flex-direction: column;align-items: center;background-color: white;padding-right: 0.2em;padding-left: 0.2em;position: relative;}#sk-container-id-4 div.sk-item {position: relative;z-index: 1;}#sk-container-id-4 div.sk-parallel {display: flex;align-items: stretch;justify-content: center;background-color: white;position: relative;}#sk-container-id-4 div.sk-item::before, #sk-container-id-4 div.sk-parallel-item::before {content: \"\";position: absolute;border-left: 1px solid gray;box-sizing: border-box;top: 0;bottom: 0;left: 50%;z-index: -1;}#sk-container-id-4 div.sk-parallel-item {display: flex;flex-direction: column;z-index: 1;position: relative;background-color: white;}#sk-container-id-4 div.sk-parallel-item:first-child::after {align-self: flex-end;width: 50%;}#sk-container-id-4 div.sk-parallel-item:last-child::after {align-self: flex-start;width: 50%;}#sk-container-id-4 div.sk-parallel-item:only-child::after {width: 0;}#sk-container-id-4 div.sk-dashed-wrapped {border: 1px dashed gray;margin: 0 0.4em 0.5em 0.4em;box-sizing: border-box;padding-bottom: 0.4em;background-color: white;}#sk-container-id-4 div.sk-label label {font-family: monospace;font-weight: bold;display: inline-block;line-height: 1.2em;}#sk-container-id-4 div.sk-label-container {text-align: center;}#sk-container-id-4 div.sk-container {/* jupyter's `normalize.less` sets `[hidden] { display: none; }` but bootstrap.min.css set `[hidden] { display: none !important; }` so we also need the `!important` here to be able to override the default hidden behavior on the sphinx rendered scikit-learn.org. See: https://github.com/scikit-learn/scikit-learn/issues/21755 */display: inline-block !important;position: relative;}#sk-container-id-4 div.sk-text-repr-fallback {display: none;}</style><div id=\"sk-container-id-4\" class=\"sk-top-container\"><div class=\"sk-text-repr-fallback\"><pre>Perceptron(alpha=0.01, eta0=0.01, max_iter=100000)</pre><b>In a Jupyter environment, please rerun this cell to show the HTML representation or trust the notebook. <br />On GitHub, the HTML representation is unable to render, please try loading this page with nbviewer.org.</b></div><div class=\"sk-container\" hidden><div class=\"sk-item\"><div class=\"sk-estimator sk-toggleable\"><input class=\"sk-toggleable__control sk-hidden--visually\" id=\"sk-estimator-id-4\" type=\"checkbox\" checked><label for=\"sk-estimator-id-4\" class=\"sk-toggleable__label sk-toggleable__label-arrow\">Perceptron</label><div class=\"sk-toggleable__content\"><pre>Perceptron(alpha=0.01, eta0=0.01, max_iter=100000)</pre></div></div></div></div></div>"
     },
     "execution_count": 18,
     "metadata": {},
     "output_type": "execute_result"
    }
   ],
   "source": [
    "alpha = 0.001\n",
    "learning_rate = 0.001\n",
    "\n",
    "# création d'un classifieur binaire pour chaque classe\n",
    "classifieur = Perceptron(alpha=alpha, max_iter=max_iter, eta0=learning_rate)    \n",
    "classifieur.fit(X_train, t_train)"
   ],
   "metadata": {
    "collapsed": false,
    "ExecuteTime": {
     "end_time": "2023-12-02T01:07:58.364908800Z",
     "start_time": "2023-12-02T01:07:58.192132600Z"
    }
   },
   "id": "9cad2785fc3624e3"
  },
  {
   "cell_type": "code",
   "execution_count": 19,
   "outputs": [
    {
     "data": {
      "text/plain": "0.45021645021645024"
     },
     "execution_count": 19,
     "metadata": {},
     "output_type": "execute_result"
    }
   ],
   "source": [
    "classifieur.score(X_train, t_train)"
   ],
   "metadata": {
    "collapsed": false,
    "ExecuteTime": {
     "end_time": "2023-12-02T01:07:58.831928300Z",
     "start_time": "2023-12-02T01:07:58.791911900Z"
    }
   },
   "id": "7616c62a5b628451"
  },
  {
   "cell_type": "markdown",
   "source": [
    "### 3. Perceptron sans optimisation de paramètres avec une pénalité L2"
   ],
   "metadata": {
    "collapsed": false
   },
   "id": "cde90d049a38e24e"
  },
  {
   "cell_type": "code",
   "execution_count": 101,
   "outputs": [
    {
     "data": {
      "text/plain": "Perceptron(alpha=0.001, eta0=0.001, max_iter=100000, penalty='l2')",
      "text/html": "<style>#sk-container-id-6 {color: black;}#sk-container-id-6 pre{padding: 0;}#sk-container-id-6 div.sk-toggleable {background-color: white;}#sk-container-id-6 label.sk-toggleable__label {cursor: pointer;display: block;width: 100%;margin-bottom: 0;padding: 0.3em;box-sizing: border-box;text-align: center;}#sk-container-id-6 label.sk-toggleable__label-arrow:before {content: \"▸\";float: left;margin-right: 0.25em;color: #696969;}#sk-container-id-6 label.sk-toggleable__label-arrow:hover:before {color: black;}#sk-container-id-6 div.sk-estimator:hover label.sk-toggleable__label-arrow:before {color: black;}#sk-container-id-6 div.sk-toggleable__content {max-height: 0;max-width: 0;overflow: hidden;text-align: left;background-color: #f0f8ff;}#sk-container-id-6 div.sk-toggleable__content pre {margin: 0.2em;color: black;border-radius: 0.25em;background-color: #f0f8ff;}#sk-container-id-6 input.sk-toggleable__control:checked~div.sk-toggleable__content {max-height: 200px;max-width: 100%;overflow: auto;}#sk-container-id-6 input.sk-toggleable__control:checked~label.sk-toggleable__label-arrow:before {content: \"▾\";}#sk-container-id-6 div.sk-estimator input.sk-toggleable__control:checked~label.sk-toggleable__label {background-color: #d4ebff;}#sk-container-id-6 div.sk-label input.sk-toggleable__control:checked~label.sk-toggleable__label {background-color: #d4ebff;}#sk-container-id-6 input.sk-hidden--visually {border: 0;clip: rect(1px 1px 1px 1px);clip: rect(1px, 1px, 1px, 1px);height: 1px;margin: -1px;overflow: hidden;padding: 0;position: absolute;width: 1px;}#sk-container-id-6 div.sk-estimator {font-family: monospace;background-color: #f0f8ff;border: 1px dotted black;border-radius: 0.25em;box-sizing: border-box;margin-bottom: 0.5em;}#sk-container-id-6 div.sk-estimator:hover {background-color: #d4ebff;}#sk-container-id-6 div.sk-parallel-item::after {content: \"\";width: 100%;border-bottom: 1px solid gray;flex-grow: 1;}#sk-container-id-6 div.sk-label:hover label.sk-toggleable__label {background-color: #d4ebff;}#sk-container-id-6 div.sk-serial::before {content: \"\";position: absolute;border-left: 1px solid gray;box-sizing: border-box;top: 0;bottom: 0;left: 50%;z-index: 0;}#sk-container-id-6 div.sk-serial {display: flex;flex-direction: column;align-items: center;background-color: white;padding-right: 0.2em;padding-left: 0.2em;position: relative;}#sk-container-id-6 div.sk-item {position: relative;z-index: 1;}#sk-container-id-6 div.sk-parallel {display: flex;align-items: stretch;justify-content: center;background-color: white;position: relative;}#sk-container-id-6 div.sk-item::before, #sk-container-id-6 div.sk-parallel-item::before {content: \"\";position: absolute;border-left: 1px solid gray;box-sizing: border-box;top: 0;bottom: 0;left: 50%;z-index: -1;}#sk-container-id-6 div.sk-parallel-item {display: flex;flex-direction: column;z-index: 1;position: relative;background-color: white;}#sk-container-id-6 div.sk-parallel-item:first-child::after {align-self: flex-end;width: 50%;}#sk-container-id-6 div.sk-parallel-item:last-child::after {align-self: flex-start;width: 50%;}#sk-container-id-6 div.sk-parallel-item:only-child::after {width: 0;}#sk-container-id-6 div.sk-dashed-wrapped {border: 1px dashed gray;margin: 0 0.4em 0.5em 0.4em;box-sizing: border-box;padding-bottom: 0.4em;background-color: white;}#sk-container-id-6 div.sk-label label {font-family: monospace;font-weight: bold;display: inline-block;line-height: 1.2em;}#sk-container-id-6 div.sk-label-container {text-align: center;}#sk-container-id-6 div.sk-container {/* jupyter's `normalize.less` sets `[hidden] { display: none; }` but bootstrap.min.css set `[hidden] { display: none !important; }` so we also need the `!important` here to be able to override the default hidden behavior on the sphinx rendered scikit-learn.org. See: https://github.com/scikit-learn/scikit-learn/issues/21755 */display: inline-block !important;position: relative;}#sk-container-id-6 div.sk-text-repr-fallback {display: none;}</style><div id=\"sk-container-id-6\" class=\"sk-top-container\"><div class=\"sk-text-repr-fallback\"><pre>Perceptron(alpha=0.001, eta0=0.001, max_iter=100000, penalty=&#x27;l2&#x27;)</pre><b>In a Jupyter environment, please rerun this cell to show the HTML representation or trust the notebook. <br />On GitHub, the HTML representation is unable to render, please try loading this page with nbviewer.org.</b></div><div class=\"sk-container\" hidden><div class=\"sk-item\"><div class=\"sk-estimator sk-toggleable\"><input class=\"sk-toggleable__control sk-hidden--visually\" id=\"sk-estimator-id-8\" type=\"checkbox\" checked><label for=\"sk-estimator-id-8\" class=\"sk-toggleable__label sk-toggleable__label-arrow\">Perceptron</label><div class=\"sk-toggleable__content\"><pre>Perceptron(alpha=0.001, eta0=0.001, max_iter=100000, penalty=&#x27;l2&#x27;)</pre></div></div></div></div></div>"
     },
     "execution_count": 101,
     "metadata": {},
     "output_type": "execute_result"
    }
   ],
   "source": [
    "alpha = 0.001\n",
    "learning_rate = 0.001\n",
    "\n",
    "# création d'un classifieur binaire pour chaque classe\n",
    "classifieur = Perceptron(penalty='l2', alpha=alpha, max_iter=max_iter, eta0=learning_rate)    \n",
    "classifieur.fit(X_train, t_train)"
   ],
   "metadata": {
    "collapsed": false,
    "ExecuteTime": {
     "end_time": "2023-12-02T02:17:04.278326Z",
     "start_time": "2023-12-02T02:17:04.113382100Z"
    }
   },
   "id": "bcc1bbedd591790f"
  },
  {
   "cell_type": "code",
   "execution_count": 102,
   "outputs": [
    {
     "data": {
      "text/plain": "0.45165945165945165"
     },
     "execution_count": 102,
     "metadata": {},
     "output_type": "execute_result"
    }
   ],
   "source": [
    "classifieur.score(X_train, t_train)"
   ],
   "metadata": {
    "collapsed": false,
    "ExecuteTime": {
     "end_time": "2023-12-02T02:17:06.110435500Z",
     "start_time": "2023-12-02T02:17:06.095795300Z"
    }
   },
   "id": "6f999fbfff9ca980"
  },
  {
   "cell_type": "markdown",
   "source": [
    "Changement peu significatif"
   ],
   "metadata": {
    "collapsed": false
   },
   "id": "d2954c48e638cda9"
  },
  {
   "cell_type": "markdown",
   "source": [
    "### 4. Perceptron avec optimisation des paramètres"
   ],
   "metadata": {
    "collapsed": false
   },
   "id": "637afefa72fa5cbc"
  },
  {
   "cell_type": "code",
   "execution_count": 91,
   "outputs": [
    {
     "name": "stdout",
     "output_type": "stream",
     "text": [
      "Fitting 5 folds for each of 100 candidates, totalling 500 fits\n"
     ]
    },
    {
     "name": "stderr",
     "output_type": "stream",
     "text": [
      "C:\\Users\\adcol\\anaconda3\\envs\\ta_env\\lib\\site-packages\\sklearn\\model_selection\\_split.py:737: UserWarning: The least populated class in y has only 3 members, which is less than n_splits=5.\n",
      "  warnings.warn(\n"
     ]
    },
    {
     "name": "stdout",
     "output_type": "stream",
     "text": [
      "Done\n"
     ]
    }
   ],
   "source": [
    "# Paramètre à tester\n",
    "param_grid_perceptron = {\n",
    "    'eta0' : all_values_lr,\n",
    "    'alpha' : all_values_alpha\n",
    "}\n",
    "\n",
    "# Création du modèle de recherche sur grille\n",
    "grid_search_perceptron = GridSearchCV(Perceptron(penalty='l2', max_iter=max_iter), param_grid_perceptron, cv=5, verbose=3, n_jobs=-1)\n",
    "\n",
    "# Entraînement du modèle avec la recherche sur grille\n",
    "grid_search_perceptron.fit(X_train, t_train)\n",
    "print('Done')"
   ],
   "metadata": {
    "collapsed": false,
    "ExecuteTime": {
     "end_time": "2023-12-02T01:58:31.370209300Z",
     "start_time": "2023-12-02T01:58:11.992121900Z"
    }
   },
   "id": "6859b9b7c781504c"
  },
  {
   "cell_type": "code",
   "execution_count": 92,
   "outputs": [
    {
     "name": "stdout",
     "output_type": "stream",
     "text": [
      "    mean_fit_time  std_fit_time  mean_score_time  std_score_time param_alpha  \\\n",
      "0        0.457059      0.100894         0.002928        0.000617         0.0   \n",
      "1        0.414644      0.098377         0.005283        0.005486         0.0   \n",
      "2        0.440864      0.034207         0.002928        0.000873         0.0   \n",
      "3        0.449077      0.072707         0.002444        0.000868         0.0   \n",
      "4        0.422796      0.063143         0.003027        0.000652         0.0   \n",
      "..            ...           ...              ...             ...         ...   \n",
      "95       0.308167      0.055003         0.002355        0.000585         1.0   \n",
      "96       0.331598      0.058579         0.002147        0.000390         1.0   \n",
      "97       0.340084      0.042234         0.002448        0.000991         1.0   \n",
      "98       0.289181      0.043089         0.002834        0.000901         1.0   \n",
      "99       0.393273      0.017897         0.001757        0.000730         1.0   \n",
      "\n",
      "   param_eta0                           params  split0_test_score  \\\n",
      "0         0.0  {'alpha': 1e-09, 'eta0': 1e-09}           0.187050   \n",
      "1         0.0  {'alpha': 1e-09, 'eta0': 1e-08}           0.187050   \n",
      "2         0.0  {'alpha': 1e-09, 'eta0': 1e-07}           0.187050   \n",
      "3    0.000001  {'alpha': 1e-09, 'eta0': 1e-06}           0.187050   \n",
      "4     0.00001  {'alpha': 1e-09, 'eta0': 1e-05}           0.187050   \n",
      "..        ...                              ...                ...   \n",
      "95     0.0001   {'alpha': 1.0, 'eta0': 0.0001}           0.151079   \n",
      "96      0.001    {'alpha': 1.0, 'eta0': 0.001}           0.043165   \n",
      "97       0.01     {'alpha': 1.0, 'eta0': 0.01}           0.021583   \n",
      "98        0.1      {'alpha': 1.0, 'eta0': 0.1}           0.021583   \n",
      "99        1.0      {'alpha': 1.0, 'eta0': 1.0}           0.021583   \n",
      "\n",
      "    split1_test_score  split2_test_score  split3_test_score  \\\n",
      "0            0.266187           0.676259           0.260870   \n",
      "1            0.266187           0.676259           0.260870   \n",
      "2            0.266187           0.676259           0.260870   \n",
      "3            0.266187           0.676259           0.260870   \n",
      "4            0.266187           0.676259           0.260870   \n",
      "..                ...                ...                ...   \n",
      "95           0.244604           0.661871           0.246377   \n",
      "96           0.496403           0.064748           0.485507   \n",
      "97           0.280576           0.021583           0.253623   \n",
      "98           0.100719           0.021583           0.086957   \n",
      "99           0.007194           0.021583           0.014493   \n",
      "\n",
      "    split4_test_score  mean_test_score  std_test_score  rank_test_score  \n",
      "0            0.152174         0.308508        0.188941                7  \n",
      "1            0.152174         0.308508        0.188941                7  \n",
      "2            0.152174         0.308508        0.188941                7  \n",
      "3            0.152174         0.308508        0.188941                7  \n",
      "4            0.152174         0.308508        0.188941                7  \n",
      "..                ...              ...             ...              ...  \n",
      "95           0.101449         0.281076        0.198345               87  \n",
      "96           0.028986         0.223762        0.218487               91  \n",
      "97           0.007246         0.116922        0.123026               95  \n",
      "98           0.007246         0.047618        0.038348               98  \n",
      "99           0.007246         0.014420        0.006423              100  \n",
      "\n",
      "[100 rows x 15 columns]\n"
     ]
    }
   ],
   "source": [
    "results_grid_perceptron = pd.DataFrame.from_dict(grid_search_perceptron.cv_results_)\n",
    "print(results_grid_perceptron)"
   ],
   "metadata": {
    "collapsed": false,
    "ExecuteTime": {
     "end_time": "2023-12-02T02:00:03.123319100Z",
     "start_time": "2023-12-02T02:00:03.102824Z"
    }
   },
   "id": "886450c2f49e685a"
  },
  {
   "cell_type": "code",
   "execution_count": 93,
   "outputs": [
    {
     "name": "stdout",
     "output_type": "stream",
     "text": [
      "Meilleur paramètre: {'alpha': 1e-05, 'eta0': 1.0}\n",
      "Meilleure précision: 0.6576895005734543\n"
     ]
    }
   ],
   "source": [
    "# Meilleurs paramètres et meilleure précision\n",
    "print(\"Meilleur paramètre:\", grid_search_perceptron.best_params_)\n",
    "print(\"Meilleure précision:\", grid_search_perceptron.best_score_)"
   ],
   "metadata": {
    "collapsed": false,
    "ExecuteTime": {
     "end_time": "2023-12-02T02:00:04.676756600Z",
     "start_time": "2023-12-02T02:00:04.657205200Z"
    }
   },
   "id": "7019508628fd0e51"
  },
  {
   "cell_type": "code",
   "execution_count": 94,
   "outputs": [
    {
     "name": "stdout",
     "output_type": "stream",
     "text": [
      "Score :  0.8946608946608947\n"
     ]
    }
   ],
   "source": [
    "print('Score : ',grid_search_perceptron.score(X_train,t_train))\n",
    "#ici avec cv = 5 meilleur score que cv = 10"
   ],
   "metadata": {
    "collapsed": false,
    "ExecuteTime": {
     "end_time": "2023-12-02T02:00:09.474698Z",
     "start_time": "2023-12-02T02:00:09.456154400Z"
    }
   },
   "id": "1921e66487afd17"
  },
  {
   "cell_type": "markdown",
   "source": [
    "### 5. Visualisation de l'évolution de notre score selon l'évolution de nos hyper-paramètres"
   ],
   "metadata": {
    "collapsed": false
   },
   "id": "3ceaf60abfe8a888"
  },
  {
   "cell_type": "code",
   "execution_count": 95,
   "outputs": [],
   "source": [
    "def plot_grid_search(cv_results, grid_param_1, grid_param_2, name_param_1, name_param_2):\n",
    "    # Get Test Scores Mean and std for each grid search\n",
    "    scores_mean = cv_results['mean_test_score']\n",
    "    scores_mean = np.array(scores_mean).reshape(len(grid_param_2),len(grid_param_1))\n",
    "\n",
    "    scores_sd = cv_results['std_test_score']\n",
    "    scores_sd = np.array(scores_sd).reshape(len(grid_param_2),len(grid_param_1))\n",
    "\n",
    "    # Plot Grid search scores\n",
    "    _, ax = plt.subplots(1,1, figsize = (8,6))\n",
    "\n",
    "    # Param1 is the X-axis, Param 2 is represented as a different curve (color line)\n",
    "    for idx, val in enumerate(grid_param_2):\n",
    "        ax.semilogx(grid_param_1, scores_mean[idx,:], '-o', label= name_param_2 + ': ' + str(val))\n",
    "\n",
    "    ax.set_title(\"Grid Search Scores\", fontsize=10, fontweight='bold')\n",
    "    ax.set_xlabel(name_param_1, fontsize=10)\n",
    "    ax.set_ylabel('CV Average Score', fontsize=10)\n",
    "    ax.legend(loc=\"upper left\", bbox_to_anchor=(1, 1), fontsize=8)\n",
    "    ax.grid('on') \n"
   ],
   "metadata": {
    "collapsed": false,
    "ExecuteTime": {
     "end_time": "2023-12-02T02:00:55.948669500Z",
     "start_time": "2023-12-02T02:00:55.912556400Z"
    }
   },
   "id": "f506eea4bc16f1d"
  },
  {
   "cell_type": "code",
   "execution_count": 96,
   "outputs": [
    {
     "data": {
      "text/plain": "<Figure size 800x600 with 1 Axes>",
      "image/png": "[encoded data removed]"
     },
     "metadata": {},
     "output_type": "display_data"
    }
   ],
   "source": [
    "plot_grid_search(results_grid_perceptron, all_values_alpha, all_values_lr, 'alpha', 'lr')\n",
    "# on voit qu'il y a pas gradn changement a 10-5 donc on devrait concentrer les paraam"
   ],
   "metadata": {
    "collapsed": false,
    "ExecuteTime": {
     "end_time": "2023-12-02T02:00:59.042547800Z",
     "start_time": "2023-12-02T02:00:57.593765300Z"
    }
   },
   "id": "71ae776788dd03c2"
  },
  {
   "cell_type": "markdown",
   "source": [
    "Ici, nous pouvons voir que notre score n'évolue pas avant un alpha ~= à 10e-5 nous pouvons donc essayer de concentrer nos valeurs de alpha entre 10e-5/-4 et 1 "
   ],
   "metadata": {
    "collapsed": false
   },
   "id": "ff6616a1054168b1"
  },
  {
   "cell_type": "markdown",
   "source": [
    "### 6. Test du perceptron sur nos données test"
   ],
   "metadata": {
    "collapsed": false
   },
   "id": "135d7e86fd908a32"
  },
  {
   "cell_type": "code",
   "execution_count": 97,
   "outputs": [
    {
     "name": "stdout",
     "output_type": "stream",
     "text": [
      "Résultat sur nos données test :  0.6835016835016835\n"
     ]
    }
   ],
   "source": [
    "print('Résultat sur nos données test : ',grid_search_perceptron.score(X_test,t_test))"
   ],
   "metadata": {
    "collapsed": false,
    "ExecuteTime": {
     "end_time": "2023-12-02T02:03:20.847306700Z",
     "start_time": "2023-12-02T02:03:20.817053200Z"
    }
   },
   "id": "41fc8f810093bc20"
  },
  {
   "cell_type": "code",
   "execution_count": 99,
   "outputs": [
    {
     "name": "stdout",
     "output_type": "stream",
     "text": [
      "Précision du modèle sur l'ensemble de test : 0.68\n"
     ]
    }
   ],
   "source": [
    "t_pred = grid_search_perceptron.predict(X_test)\n",
    "accuracy = accuracy_score(t_test, t_pred)\n",
    "print(f\"Précision du modèle sur l'ensemble de test : {accuracy:.2f}\")"
   ],
   "metadata": {
    "collapsed": false,
    "ExecuteTime": {
     "end_time": "2023-12-02T02:03:27.568601900Z",
     "start_time": "2023-12-02T02:03:27.548104900Z"
    }
   },
   "id": "eb82ddf778b362a3"
  },
  {
   "cell_type": "markdown",
   "source": [
    "### 7. Utilisation de notre perceptron en isolant chaque features : Margin / Shape / Textures"
   ],
   "metadata": {
    "collapsed": false
   },
   "id": "2cc2a2f92d5343f2"
  },
  {
   "cell_type": "code",
   "execution_count": null,
   "outputs": [],
   "source": [
    "# isole margin etc\n",
    "# direct k-fold \n",
    "#comparaison entre le global et chaque features une a une "
   ],
   "metadata": {
    "collapsed": false
   },
   "id": "5bb9e5ea95c79d25"
  },
  {
   "cell_type": "markdown",
   "source": [],
   "metadata": {
    "collapsed": false
   },
   "id": "aea45922c83240f8"
  }
 ],
 "metadata": {
  "kernelspec": {
   "display_name": "Python 3",
   "language": "python",
   "name": "python3"
  },
  "language_info": {
   "codemirror_mode": {
    "name": "ipython",
    "version": 2
   },
   "file_extension": ".py",
   "mimetype": "text/x-python",
   "name": "python",
   "nbconvert_exporter": "python",
   "pygments_lexer": "ipython2",
   "version": "2.7.6"
  }
 },
 "nbformat": 4,
 "nbformat_minor": 5
}
