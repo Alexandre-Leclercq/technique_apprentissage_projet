{
 "cells": [
  {
   "cell_type": "code",
   "execution_count": 2,
   "id": "initial_id",
   "metadata": {
    "collapsed": true,
    "ExecuteTime": {
     "end_time": "2023-12-12T00:23:42.419202Z",
     "start_time": "2023-12-12T00:23:42.309970Z"
    }
   },
   "outputs": [],
   "source": [
    "import numpy as np\n",
    "import pandas as pd\n",
    "from utils.dataPreprocessing import  data_preprocessing\n",
    "from sklearn.linear_model import Perceptron\n",
    "from sklearn.model_selection import train_test_split, GridSearchCV\n",
    "import matplotlib.pyplot as plt"
   ]
  },
  {
   "cell_type": "markdown",
   "source": [
    "### 1. Data preparation"
   ],
   "metadata": {
    "collapsed": false
   },
   "id": "cdff98fdd5955857"
  },
  {
   "cell_type": "code",
   "execution_count": 3,
   "outputs": [
    {
     "data": {
      "text/plain": "   id      species   margin1   margin2   margin3   margin4   margin5  \\\n0   1  Acer_Opalus  0.007812  0.023438  0.023438  0.003906  0.011719   \n\n    margin6   margin7  margin8  ...  texture55  texture56  texture57  \\\n0  0.009766  0.027344      0.0  ...   0.007812        0.0    0.00293   \n\n   texture58  texture59  texture60  texture61  texture62  texture63  texture64  \n0    0.00293   0.035156        0.0        0.0   0.004883        0.0   0.025391  \n\n[1 rows x 194 columns]",
      "text/html": "<div>\n<style scoped>\n    .dataframe tbody tr th:only-of-type {\n        vertical-align: middle;\n    }\n\n    .dataframe tbody tr th {\n        vertical-align: top;\n    }\n\n    .dataframe thead th {\n        text-align: right;\n    }\n</style>\n<table border=\"1\" class=\"dataframe\">\n  <thead>\n    <tr style=\"text-align: right;\">\n      <th></th>\n      <th>id</th>\n      <th>species</th>\n      <th>margin1</th>\n      <th>margin2</th>\n      <th>margin3</th>\n      <th>margin4</th>\n      <th>margin5</th>\n      <th>margin6</th>\n      <th>margin7</th>\n      <th>margin8</th>\n      <th>...</th>\n      <th>texture55</th>\n      <th>texture56</th>\n      <th>texture57</th>\n      <th>texture58</th>\n      <th>texture59</th>\n      <th>texture60</th>\n      <th>texture61</th>\n      <th>texture62</th>\n      <th>texture63</th>\n      <th>texture64</th>\n    </tr>\n  </thead>\n  <tbody>\n    <tr>\n      <th>0</th>\n      <td>1</td>\n      <td>Acer_Opalus</td>\n      <td>0.007812</td>\n      <td>0.023438</td>\n      <td>0.023438</td>\n      <td>0.003906</td>\n      <td>0.011719</td>\n      <td>0.009766</td>\n      <td>0.027344</td>\n      <td>0.0</td>\n      <td>...</td>\n      <td>0.007812</td>\n      <td>0.0</td>\n      <td>0.00293</td>\n      <td>0.00293</td>\n      <td>0.035156</td>\n      <td>0.0</td>\n      <td>0.0</td>\n      <td>0.004883</td>\n      <td>0.0</td>\n      <td>0.025391</td>\n    </tr>\n  </tbody>\n</table>\n<p>1 rows × 194 columns</p>\n</div>"
     },
     "execution_count": 3,
     "metadata": {},
     "output_type": "execute_result"
    }
   ],
   "source": [
    "df_data = pd.read_csv('../data/train.csv')\n",
    "df_data.head(1)"
   ],
   "metadata": {
    "collapsed": false,
    "ExecuteTime": {
     "end_time": "2023-12-12T00:23:42.871186Z",
     "start_time": "2023-12-12T00:23:42.846101Z"
    }
   },
   "id": "4f3f30fd0b239786"
  },
  {
   "cell_type": "code",
   "execution_count": 4,
   "outputs": [],
   "source": [
    "X, t = data_preprocessing(df_data, normalized=True, one_hot=False)\n",
    "X_train, X_test, t_train, t_test = train_test_split(X, t, test_size=0.3, random_state=0)"
   ],
   "metadata": {
    "collapsed": false,
    "ExecuteTime": {
     "end_time": "2023-12-12T00:23:43.562621Z",
     "start_time": "2023-12-12T00:23:43.549909Z"
    }
   },
   "id": "606d873b740a9b8f"
  },
  {
   "cell_type": "code",
   "execution_count": 5,
   "outputs": [],
   "source": [
    "#creation of lists of possible hyper-parameter values and choice of maximum number of iterations\n",
    "all_values_lr = np.logspace(-9, 0, 10)\n",
    "all_values_alpha = np.logspace(-9, 0, 10)\n",
    "max_iter = 10000"
   ],
   "metadata": {
    "collapsed": false,
    "ExecuteTime": {
     "end_time": "2023-12-12T00:25:21.677739Z",
     "start_time": "2023-12-12T00:25:21.645538Z"
    }
   },
   "id": "3857b337ea5b556c"
  },
  {
   "cell_type": "markdown",
   "source": [
    "### 2. Perceptron without parameter optimisation and regularization"
   ],
   "metadata": {
    "collapsed": false
   },
   "id": "932aff485d1c8c6d"
  },
  {
   "cell_type": "code",
   "execution_count": 6,
   "outputs": [
    {
     "data": {
      "text/plain": "Perceptron(alpha=0, eta0=0.001)",
      "text/html": "<style>#sk-container-id-1 {color: black;}#sk-container-id-1 pre{padding: 0;}#sk-container-id-1 div.sk-toggleable {background-color: white;}#sk-container-id-1 label.sk-toggleable__label {cursor: pointer;display: block;width: 100%;margin-bottom: 0;padding: 0.3em;box-sizing: border-box;text-align: center;}#sk-container-id-1 label.sk-toggleable__label-arrow:before {content: \"▸\";float: left;margin-right: 0.25em;color: #696969;}#sk-container-id-1 label.sk-toggleable__label-arrow:hover:before {color: black;}#sk-container-id-1 div.sk-estimator:hover label.sk-toggleable__label-arrow:before {color: black;}#sk-container-id-1 div.sk-toggleable__content {max-height: 0;max-width: 0;overflow: hidden;text-align: left;background-color: #f0f8ff;}#sk-container-id-1 div.sk-toggleable__content pre {margin: 0.2em;color: black;border-radius: 0.25em;background-color: #f0f8ff;}#sk-container-id-1 input.sk-toggleable__control:checked~div.sk-toggleable__content {max-height: 200px;max-width: 100%;overflow: auto;}#sk-container-id-1 input.sk-toggleable__control:checked~label.sk-toggleable__label-arrow:before {content: \"▾\";}#sk-container-id-1 div.sk-estimator input.sk-toggleable__control:checked~label.sk-toggleable__label {background-color: #d4ebff;}#sk-container-id-1 div.sk-label input.sk-toggleable__control:checked~label.sk-toggleable__label {background-color: #d4ebff;}#sk-container-id-1 input.sk-hidden--visually {border: 0;clip: rect(1px 1px 1px 1px);clip: rect(1px, 1px, 1px, 1px);height: 1px;margin: -1px;overflow: hidden;padding: 0;position: absolute;width: 1px;}#sk-container-id-1 div.sk-estimator {font-family: monospace;background-color: #f0f8ff;border: 1px dotted black;border-radius: 0.25em;box-sizing: border-box;margin-bottom: 0.5em;}#sk-container-id-1 div.sk-estimator:hover {background-color: #d4ebff;}#sk-container-id-1 div.sk-parallel-item::after {content: \"\";width: 100%;border-bottom: 1px solid gray;flex-grow: 1;}#sk-container-id-1 div.sk-label:hover label.sk-toggleable__label {background-color: #d4ebff;}#sk-container-id-1 div.sk-serial::before {content: \"\";position: absolute;border-left: 1px solid gray;box-sizing: border-box;top: 0;bottom: 0;left: 50%;z-index: 0;}#sk-container-id-1 div.sk-serial {display: flex;flex-direction: column;align-items: center;background-color: white;padding-right: 0.2em;padding-left: 0.2em;position: relative;}#sk-container-id-1 div.sk-item {position: relative;z-index: 1;}#sk-container-id-1 div.sk-parallel {display: flex;align-items: stretch;justify-content: center;background-color: white;position: relative;}#sk-container-id-1 div.sk-item::before, #sk-container-id-1 div.sk-parallel-item::before {content: \"\";position: absolute;border-left: 1px solid gray;box-sizing: border-box;top: 0;bottom: 0;left: 50%;z-index: -1;}#sk-container-id-1 div.sk-parallel-item {display: flex;flex-direction: column;z-index: 1;position: relative;background-color: white;}#sk-container-id-1 div.sk-parallel-item:first-child::after {align-self: flex-end;width: 50%;}#sk-container-id-1 div.sk-parallel-item:last-child::after {align-self: flex-start;width: 50%;}#sk-container-id-1 div.sk-parallel-item:only-child::after {width: 0;}#sk-container-id-1 div.sk-dashed-wrapped {border: 1px dashed gray;margin: 0 0.4em 0.5em 0.4em;box-sizing: border-box;padding-bottom: 0.4em;background-color: white;}#sk-container-id-1 div.sk-label label {font-family: monospace;font-weight: bold;display: inline-block;line-height: 1.2em;}#sk-container-id-1 div.sk-label-container {text-align: center;}#sk-container-id-1 div.sk-container {/* jupyter's `normalize.less` sets `[hidden] { display: none; }` but bootstrap.min.css set `[hidden] { display: none !important; }` so we also need the `!important` here to be able to override the default hidden behavior on the sphinx rendered scikit-learn.org. See: https://github.com/scikit-learn/scikit-learn/issues/21755 */display: inline-block !important;position: relative;}#sk-container-id-1 div.sk-text-repr-fallback {display: none;}</style><div id=\"sk-container-id-1\" class=\"sk-top-container\"><div class=\"sk-text-repr-fallback\"><pre>Perceptron(alpha=0, eta0=0.001)</pre><b>In a Jupyter environment, please rerun this cell to show the HTML representation or trust the notebook. <br />On GitHub, the HTML representation is unable to render, please try loading this page with nbviewer.org.</b></div><div class=\"sk-container\" hidden><div class=\"sk-item\"><div class=\"sk-estimator sk-toggleable\"><input class=\"sk-toggleable__control sk-hidden--visually\" id=\"sk-estimator-id-1\" type=\"checkbox\" checked><label for=\"sk-estimator-id-1\" class=\"sk-toggleable__label sk-toggleable__label-arrow\">Perceptron</label><div class=\"sk-toggleable__content\"><pre>Perceptron(alpha=0, eta0=0.001)</pre></div></div></div></div></div>"
     },
     "execution_count": 6,
     "metadata": {},
     "output_type": "execute_result"
    }
   ],
   "source": [
    "# creation of a multiclass perceptron classifier\n",
    "classifieur_perceptron = Perceptron(alpha =0, eta0= 0.001, penalty=None, random_state=0)   \n",
    "classifieur_perceptron.fit(X_train, t_train)"
   ],
   "metadata": {
    "collapsed": false,
    "ExecuteTime": {
     "end_time": "2023-12-12T00:25:31.535742Z",
     "start_time": "2023-12-12T00:25:31.438993Z"
    }
   },
   "id": "9cad2785fc3624e3"
  },
  {
   "cell_type": "code",
   "execution_count": 7,
   "outputs": [
    {
     "name": "stdout",
     "output_type": "stream",
     "text": [
      "Accuracy X_train, t_train : 97.84%\n",
      "Accuracy X_test, t_test : 88.89%\n"
     ]
    }
   ],
   "source": [
    "print(\"Accuracy X_train, t_train : {:.2f}%\".format(classifieur_perceptron.score(X_train, t_train)*100))\n",
    "print(\"Accuracy X_test, t_test : {:.2f}%\".format(classifieur_perceptron.score(X_test, t_test)*100))"
   ],
   "metadata": {
    "collapsed": false,
    "ExecuteTime": {
     "end_time": "2023-12-12T00:25:32.139597Z",
     "start_time": "2023-12-12T00:25:32.105921Z"
    }
   },
   "id": "7616c62a5b628451"
  },
  {
   "cell_type": "markdown",
   "source": [
    "### 3. Perceptron without parameter optimisation with L2 penalty"
   ],
   "metadata": {
    "collapsed": false
   },
   "id": "cde90d049a38e24e"
  },
  {
   "cell_type": "code",
   "execution_count": 8,
   "outputs": [
    {
     "data": {
      "text/plain": "Perceptron(penalty='l2')",
      "text/html": "<style>#sk-container-id-2 {color: black;}#sk-container-id-2 pre{padding: 0;}#sk-container-id-2 div.sk-toggleable {background-color: white;}#sk-container-id-2 label.sk-toggleable__label {cursor: pointer;display: block;width: 100%;margin-bottom: 0;padding: 0.3em;box-sizing: border-box;text-align: center;}#sk-container-id-2 label.sk-toggleable__label-arrow:before {content: \"▸\";float: left;margin-right: 0.25em;color: #696969;}#sk-container-id-2 label.sk-toggleable__label-arrow:hover:before {color: black;}#sk-container-id-2 div.sk-estimator:hover label.sk-toggleable__label-arrow:before {color: black;}#sk-container-id-2 div.sk-toggleable__content {max-height: 0;max-width: 0;overflow: hidden;text-align: left;background-color: #f0f8ff;}#sk-container-id-2 div.sk-toggleable__content pre {margin: 0.2em;color: black;border-radius: 0.25em;background-color: #f0f8ff;}#sk-container-id-2 input.sk-toggleable__control:checked~div.sk-toggleable__content {max-height: 200px;max-width: 100%;overflow: auto;}#sk-container-id-2 input.sk-toggleable__control:checked~label.sk-toggleable__label-arrow:before {content: \"▾\";}#sk-container-id-2 div.sk-estimator input.sk-toggleable__control:checked~label.sk-toggleable__label {background-color: #d4ebff;}#sk-container-id-2 div.sk-label input.sk-toggleable__control:checked~label.sk-toggleable__label {background-color: #d4ebff;}#sk-container-id-2 input.sk-hidden--visually {border: 0;clip: rect(1px 1px 1px 1px);clip: rect(1px, 1px, 1px, 1px);height: 1px;margin: -1px;overflow: hidden;padding: 0;position: absolute;width: 1px;}#sk-container-id-2 div.sk-estimator {font-family: monospace;background-color: #f0f8ff;border: 1px dotted black;border-radius: 0.25em;box-sizing: border-box;margin-bottom: 0.5em;}#sk-container-id-2 div.sk-estimator:hover {background-color: #d4ebff;}#sk-container-id-2 div.sk-parallel-item::after {content: \"\";width: 100%;border-bottom: 1px solid gray;flex-grow: 1;}#sk-container-id-2 div.sk-label:hover label.sk-toggleable__label {background-color: #d4ebff;}#sk-container-id-2 div.sk-serial::before {content: \"\";position: absolute;border-left: 1px solid gray;box-sizing: border-box;top: 0;bottom: 0;left: 50%;z-index: 0;}#sk-container-id-2 div.sk-serial {display: flex;flex-direction: column;align-items: center;background-color: white;padding-right: 0.2em;padding-left: 0.2em;position: relative;}#sk-container-id-2 div.sk-item {position: relative;z-index: 1;}#sk-container-id-2 div.sk-parallel {display: flex;align-items: stretch;justify-content: center;background-color: white;position: relative;}#sk-container-id-2 div.sk-item::before, #sk-container-id-2 div.sk-parallel-item::before {content: \"\";position: absolute;border-left: 1px solid gray;box-sizing: border-box;top: 0;bottom: 0;left: 50%;z-index: -1;}#sk-container-id-2 div.sk-parallel-item {display: flex;flex-direction: column;z-index: 1;position: relative;background-color: white;}#sk-container-id-2 div.sk-parallel-item:first-child::after {align-self: flex-end;width: 50%;}#sk-container-id-2 div.sk-parallel-item:last-child::after {align-self: flex-start;width: 50%;}#sk-container-id-2 div.sk-parallel-item:only-child::after {width: 0;}#sk-container-id-2 div.sk-dashed-wrapped {border: 1px dashed gray;margin: 0 0.4em 0.5em 0.4em;box-sizing: border-box;padding-bottom: 0.4em;background-color: white;}#sk-container-id-2 div.sk-label label {font-family: monospace;font-weight: bold;display: inline-block;line-height: 1.2em;}#sk-container-id-2 div.sk-label-container {text-align: center;}#sk-container-id-2 div.sk-container {/* jupyter's `normalize.less` sets `[hidden] { display: none; }` but bootstrap.min.css set `[hidden] { display: none !important; }` so we also need the `!important` here to be able to override the default hidden behavior on the sphinx rendered scikit-learn.org. See: https://github.com/scikit-learn/scikit-learn/issues/21755 */display: inline-block !important;position: relative;}#sk-container-id-2 div.sk-text-repr-fallback {display: none;}</style><div id=\"sk-container-id-2\" class=\"sk-top-container\"><div class=\"sk-text-repr-fallback\"><pre>Perceptron(penalty=&#x27;l2&#x27;)</pre><b>In a Jupyter environment, please rerun this cell to show the HTML representation or trust the notebook. <br />On GitHub, the HTML representation is unable to render, please try loading this page with nbviewer.org.</b></div><div class=\"sk-container\" hidden><div class=\"sk-item\"><div class=\"sk-estimator sk-toggleable\"><input class=\"sk-toggleable__control sk-hidden--visually\" id=\"sk-estimator-id-2\" type=\"checkbox\" checked><label for=\"sk-estimator-id-2\" class=\"sk-toggleable__label sk-toggleable__label-arrow\">Perceptron</label><div class=\"sk-toggleable__content\"><pre>Perceptron(penalty=&#x27;l2&#x27;)</pre></div></div></div></div></div>"
     },
     "execution_count": 8,
     "metadata": {},
     "output_type": "execute_result"
    }
   ],
   "source": [
    "classifieur_reg = Perceptron(penalty='l2')    \n",
    "classifieur_reg.fit(X_train, t_train)"
   ],
   "metadata": {
    "collapsed": false,
    "ExecuteTime": {
     "end_time": "2023-12-11T23:03:07.368381700Z",
     "start_time": "2023-12-11T23:03:07.035566400Z"
    }
   },
   "id": "bcc1bbedd591790f"
  },
  {
   "cell_type": "code",
   "execution_count": 9,
   "outputs": [
    {
     "name": "stdout",
     "output_type": "stream",
     "text": [
      "Accuracy X_train, t_train : 91.63%\n",
      "Accuracy X_test, t_test : 86.53%\n"
     ]
    }
   ],
   "source": [
    "print(\"Accuracy X_train, t_train : {:.2f}%\".format(classifieur_reg.score(X_train, t_train)*100))\n",
    "print(\"Accuracy X_test, t_test : {:.2f}%\".format(classifieur_reg.score(X_test, t_test)*100))"
   ],
   "metadata": {
    "collapsed": false,
    "ExecuteTime": {
     "end_time": "2023-12-11T23:03:07.426941500Z",
     "start_time": "2023-12-11T23:03:07.372285900Z"
    }
   },
   "id": "6f999fbfff9ca980"
  },
  {
   "cell_type": "markdown",
   "source": [
    "### 4. Perceptron with parameter optimization"
   ],
   "metadata": {
    "collapsed": false
   },
   "id": "637afefa72fa5cbc"
  },
  {
   "cell_type": "code",
   "execution_count": 38,
   "outputs": [
    {
     "name": "stdout",
     "output_type": "stream",
     "text": [
      "Fitting 3 folds for each of 100 candidates, totalling 300 fits\n",
      "Done\n"
     ]
    }
   ],
   "source": [
    "#Parameters to be tested\n",
    "param_grid_perceptron = {\n",
    "    'eta0' : all_values_lr,\n",
    "    'alpha' : all_values_alpha\n",
    "}\n",
    "\n",
    "# Creation of the grid search model\n",
    "grid_search_perceptron = GridSearchCV(Perceptron(penalty='l2', max_iter=max_iter), param_grid_perceptron, cv=3, verbose=3, n_jobs=-1)\n",
    "\n",
    "# Training the model with grid search\n",
    "grid_search_perceptron.fit(X_train, t_train)\n",
    "print('Done')"
   ],
   "metadata": {
    "collapsed": false,
    "ExecuteTime": {
     "end_time": "2023-12-11T23:08:29.592534Z",
     "start_time": "2023-12-11T23:08:19.966484700Z"
    }
   },
   "id": "6859b9b7c781504c"
  },
  {
   "cell_type": "code",
   "execution_count": 39,
   "outputs": [],
   "source": [
    "results_grid_perceptron = pd.DataFrame.from_dict(grid_search_perceptron.cv_results_)"
   ],
   "metadata": {
    "collapsed": false,
    "ExecuteTime": {
     "end_time": "2023-12-11T23:08:29.616934300Z",
     "start_time": "2023-12-11T23:08:29.593510300Z"
    }
   },
   "id": "886450c2f49e685a"
  },
  {
   "cell_type": "code",
   "execution_count": 40,
   "outputs": [
    {
     "name": "stdout",
     "output_type": "stream",
     "text": [
      "Best parameters: {'alpha': 1e-09, 'eta0': 1.0}\n",
      "Best accuracy on a split : 90.33%\n",
      "Accuracy X_train, t_train : 100.00%\n"
     ]
    }
   ],
   "source": [
    "print(\"Best parameters:\", grid_search_perceptron.best_params_)\n",
    "print(\"Best accuracy on a split : {:.2f}%\".format(grid_search_perceptron.best_score_*100))\n",
    "print(\"Accuracy X_train, t_train : {:.2f}%\".format(grid_search_perceptron.score(X_train, t_train)*100))"
   ],
   "metadata": {
    "collapsed": false,
    "ExecuteTime": {
     "end_time": "2023-12-11T23:08:29.644262800Z",
     "start_time": "2023-12-11T23:08:29.605223200Z"
    }
   },
   "id": "c16afa698c727191"
  },
  {
   "cell_type": "code",
   "execution_count": 43,
   "outputs": [],
   "source": [
    "def plot_grid_search(cv_results, grid_param_1, grid_param_2, name_param_1, name_param_2, axis):\n",
    "    # grid_param_1 is the first parameter to vary\n",
    "    # grid_param_2 is the second parameter to vary\n",
    "    \n",
    "    # Get Test Scores Mean and std for each grid search\n",
    "    scores_mean = cv_results['mean_test_score']\n",
    "    scores_mean = np.array(scores_mean).reshape(len(grid_param_2), len(grid_param_1))\n",
    "\n",
    "    # Plot Grid search scores\n",
    "    _, ax = plt.subplots(1,1, figsize = (8,6))\n",
    "\n",
    "    # Param1 is the X-axis, Param 2 is represented as a different curve (color line)\n",
    "    if axis == 0:\n",
    "        for idx, val in enumerate(grid_param_1):\n",
    "            ax.semilogx(grid_param_2, scores_mean[:,idx], '-o', label= name_param_1 + ': ' + str(val))\n",
    "            ax.set_xlabel(name_param_2, fontsize=10)\n",
    "    elif axis == 1:\n",
    "        for idx, val in enumerate(grid_param_2):\n",
    "            ax.semilogx(grid_param_1, scores_mean[idx,:], '-o', label= name_param_2 + ': ' + str(val))\n",
    "            ax.set_xlabel(name_param_1, fontsize=10)\n",
    "    else:\n",
    "        print(\"unknown axis\")\n",
    "    \n",
    "    ax.set_title(\"Grid Search Accuracies\", fontsize=10, fontweight='bold')\n",
    "    ax.set_ylabel('CV Average Accuracy', fontsize=10)\n",
    "    ax.legend(loc=\"upper left\", bbox_to_anchor=(1, 1), fontsize=8)\n",
    "    ax.grid('on') "
   ],
   "metadata": {
    "collapsed": false,
    "ExecuteTime": {
     "end_time": "2023-12-11T23:09:22.271613900Z",
     "start_time": "2023-12-11T23:09:22.239327100Z"
    }
   },
   "id": "f506eea4bc16f1d"
  },
  {
   "cell_type": "code",
   "execution_count": 44,
   "outputs": [
    {
     "data": {
      "text/plain": "<Figure size 800x600 with 1 Axes>",
      "image/png": "[encoded data removed]"
     },
     "metadata": {},
     "output_type": "display_data"
    }
   ],
   "source": [
    "plot_grid_search(results_grid_perceptron, all_values_lr, all_values_alpha,'lr','alpha',axis=0)"
   ],
   "metadata": {
    "collapsed": false,
    "ExecuteTime": {
     "end_time": "2023-12-11T23:09:23.195951100Z",
     "start_time": "2023-12-11T23:09:22.484952700Z"
    }
   },
   "id": "71ae776788dd03c2"
  },
  {
   "cell_type": "markdown",
   "source": [
    "### 6. Testing the perceptron on our test data"
   ],
   "metadata": {
    "collapsed": false
   },
   "id": "135d7e86fd908a32"
  },
  {
   "cell_type": "code",
   "execution_count": 15,
   "outputs": [
    {
     "name": "stdout",
     "output_type": "stream",
     "text": [
      "Accuracy X_test, t_test : 93.27%\n"
     ]
    }
   ],
   "source": [
    "print(\"Accuracy X_test, t_test : {:.2f}%\".format(grid_search_perceptron.score(X_test, t_test)*100))"
   ],
   "metadata": {
    "collapsed": false,
    "ExecuteTime": {
     "end_time": "2023-12-11T23:03:21.695316100Z",
     "start_time": "2023-12-11T23:03:21.686532Z"
    }
   },
   "id": "41fc8f810093bc20"
  },
  {
   "cell_type": "markdown",
   "source": [
    "### 7. Use a perceptron to isolate each feature: Margin / Shape / Texture\n",
    "### 7.1 Preparing the data"
   ],
   "metadata": {
    "collapsed": false
   },
   "id": "2cc2a2f92d5343f2"
  },
  {
   "cell_type": "markdown",
   "source": [
    "### 5. Visualization of the evolution of our accuracy according to the evolution of our hyper-parameters"
   ],
   "metadata": {
    "collapsed": false
   },
   "id": "3ceaf60abfe8a888"
  },
  {
   "cell_type": "code",
   "execution_count": 16,
   "outputs": [],
   "source": [
    "X_train_margin = X_train[:,:64]\n",
    "X_test_margin = X_test[:,:64]"
   ],
   "metadata": {
    "collapsed": false,
    "ExecuteTime": {
     "end_time": "2023-12-11T23:03:21.937925100Z",
     "start_time": "2023-12-11T23:03:21.694340800Z"
    }
   },
   "id": "5bb9e5ea95c79d25"
  },
  {
   "cell_type": "code",
   "execution_count": 17,
   "outputs": [],
   "source": [
    "X_train_shape = X_train[:,64:128]\n",
    "X_test_shape = X_test[:,64:128]"
   ],
   "metadata": {
    "collapsed": false,
    "ExecuteTime": {
     "end_time": "2023-12-11T23:03:21.938900700Z",
     "start_time": "2023-12-11T23:03:21.711908Z"
    }
   },
   "id": "862b0cdcf7e7a799"
  },
  {
   "cell_type": "code",
   "execution_count": 18,
   "outputs": [],
   "source": [
    "X_train_texture = X_train[:,128:]\n",
    "X_test_texture = X_test[:,128:]"
   ],
   "metadata": {
    "collapsed": false,
    "ExecuteTime": {
     "end_time": "2023-12-11T23:03:21.939877600Z",
     "start_time": "2023-12-11T23:03:21.729475800Z"
    }
   },
   "id": "224c1b6fadbe307a"
  },
  {
   "cell_type": "markdown",
   "source": [
    "### 7.2 Finding the best model for each feature\n",
    "### 7.2.1 Margin :"
   ],
   "metadata": {
    "collapsed": false
   },
   "id": "167b5e1240b2ebd3"
  },
  {
   "cell_type": "code",
   "execution_count": 19,
   "outputs": [
    {
     "name": "stdout",
     "output_type": "stream",
     "text": [
      "Fitting 3 folds for each of 100 candidates, totalling 300 fits\n",
      "Done\n"
     ]
    }
   ],
   "source": [
    "# Parameters to be tested\n",
    "param_grid_perceptron = {\n",
    "    'eta0' : all_values_lr,\n",
    "    'alpha' : all_values_alpha\n",
    "}\n",
    "\n",
    "# Creation of the grid search model\n",
    "perceptron_margin = GridSearchCV(Perceptron(penalty='l2', max_iter=max_iter), param_grid_perceptron, cv=3, verbose=3, n_jobs=-1)\n",
    "\n",
    "# Training the model with grid search\n",
    "perceptron_margin.fit(X_train_margin, t_train)\n",
    "print('Done')"
   ],
   "metadata": {
    "collapsed": false,
    "ExecuteTime": {
     "end_time": "2023-12-11T23:03:26.551668200Z",
     "start_time": "2023-12-11T23:03:21.747043500Z"
    }
   },
   "id": "bcb5790de723388c"
  },
  {
   "cell_type": "code",
   "execution_count": 20,
   "outputs": [
    {
     "name": "stdout",
     "output_type": "stream",
     "text": [
      "Best parameters : {'alpha': 1e-06, 'eta0': 1.0}\n",
      "Best accuracy on a split : 54.69%\n",
      "Accuracy X_train, t_train : 80.23%\n",
      "Accuracy X_test, t_test : 50.84%\n"
     ]
    }
   ],
   "source": [
    "print(\"Best parameters :\", perceptron_margin.best_params_)\n",
    "print(\"Best accuracy on a split : {:.2f}%\".format(perceptron_margin.best_score_*100))\n",
    "print(\"Accuracy X_train, t_train : {:.2f}%\".format(perceptron_margin.score(X_train_margin, t_train)*100))\n",
    "print(\"Accuracy X_test, t_test : {:.2f}%\".format(perceptron_margin.score(X_test_margin, t_test)*100))"
   ],
   "metadata": {
    "collapsed": false,
    "ExecuteTime": {
     "end_time": "2023-12-11T23:03:26.607419300Z",
     "start_time": "2023-12-11T23:03:26.550691500Z"
    }
   },
   "id": "7bda17ea468fbd28"
  },
  {
   "cell_type": "markdown",
   "source": [
    "### 7.2.2 Shape : "
   ],
   "metadata": {
    "collapsed": false
   },
   "id": "b4def8ca5a870bd6"
  },
  {
   "cell_type": "code",
   "execution_count": 21,
   "outputs": [
    {
     "name": "stdout",
     "output_type": "stream",
     "text": [
      "Fitting 3 folds for each of 100 candidates, totalling 300 fits\n",
      "Done\n"
     ]
    }
   ],
   "source": [
    "# Parameters to be tested\n",
    "param_grid_perceptron = {\n",
    "    'eta0' : all_values_lr,\n",
    "    'alpha' : all_values_alpha\n",
    "}\n",
    "\n",
    "# Creation of the grid search model\n",
    "perceptron_shape = GridSearchCV(Perceptron(penalty='l2', max_iter=max_iter), param_grid_perceptron, cv=3, verbose=3, n_jobs=-1)\n",
    "\n",
    "# Training the model with grid search\n",
    "perceptron_shape.fit(X_train_shape, t_train)\n",
    "print('Done')"
   ],
   "metadata": {
    "collapsed": false,
    "ExecuteTime": {
     "end_time": "2023-12-11T23:03:33.015851500Z",
     "start_time": "2023-12-11T23:03:26.566884100Z"
    }
   },
   "id": "ab303ffd85e64a1c"
  },
  {
   "cell_type": "code",
   "execution_count": 22,
   "outputs": [
    {
     "name": "stdout",
     "output_type": "stream",
     "text": [
      "Best parameters : {'alpha': 1e-05, 'eta0': 1.0}\n",
      "Best accuracy on a split : 10.97%\n",
      "Accuracy X_train, t_train : 8.95%\n",
      "Accuracy X_test, t_test : 8.42%\n"
     ]
    }
   ],
   "source": [
    "print(\"Best parameters :\", perceptron_shape.best_params_)\n",
    "print(\"Best accuracy on a split : {:.2f}%\".format(perceptron_shape.best_score_*100))\n",
    "print(\"Accuracy X_train, t_train : {:.2f}%\".format(perceptron_shape.score(X_train_shape, t_train)*100))\n",
    "print(\"Accuracy X_test, t_test : {:.2f}%\".format(perceptron_shape.score(X_test_shape, t_test)*100))"
   ],
   "metadata": {
    "collapsed": false,
    "ExecuteTime": {
     "end_time": "2023-12-11T23:03:33.025612Z",
     "start_time": "2023-12-11T23:03:33.003627600Z"
    }
   },
   "id": "434ff69aa10d55f6"
  },
  {
   "cell_type": "markdown",
   "source": [
    "### 7.2.3 Texture : "
   ],
   "metadata": {
    "collapsed": false
   },
   "id": "e4d0de004b394675"
  },
  {
   "cell_type": "code",
   "execution_count": 23,
   "outputs": [
    {
     "name": "stdout",
     "output_type": "stream",
     "text": [
      "Fitting 3 folds for each of 100 candidates, totalling 300 fits\n",
      "Done\n"
     ]
    }
   ],
   "source": [
    "# Parameters to be tested\n",
    "param_grid_perceptron = {\n",
    "    'eta0' : all_values_lr,\n",
    "    'alpha' : all_values_alpha\n",
    "}\n",
    "\n",
    "# Creation of the grid search model\n",
    "perceptron_texture = GridSearchCV(Perceptron(penalty='l2', max_iter=max_iter), param_grid_perceptron, cv=3, verbose=3, n_jobs=-1)\n",
    "\n",
    "# Training the model with grid search\n",
    "perceptron_texture.fit(X_train_texture, t_train)\n",
    "print('Done')"
   ],
   "metadata": {
    "collapsed": false,
    "ExecuteTime": {
     "end_time": "2023-12-11T23:03:37.590384100Z",
     "start_time": "2023-12-11T23:03:33.028539Z"
    }
   },
   "id": "6761c5bcfeef1f47"
  },
  {
   "cell_type": "code",
   "execution_count": 24,
   "outputs": [
    {
     "name": "stdout",
     "output_type": "stream",
     "text": [
      "Best parameters : {'alpha': 1e-07, 'eta0': 1.0}\n",
      "Best accuracy on a split : 58.44%\n",
      "Accuracy X_train, t_train : 76.62%\n",
      "Accuracy X_test, t_test : 57.58%\n"
     ]
    }
   ],
   "source": [
    "print(\"Best parameters :\", perceptron_texture.best_params_)\n",
    "print(\"Best accuracy on a split : {:.2f}%\".format(perceptron_texture.best_score_*100))\n",
    "print(\"Accuracy X_train, t_train : {:.2f}%\".format(perceptron_texture.score(X_train_texture, t_train)*100))\n",
    "print(\"Accuracy X_test, t_test : {:.2f}%\".format(perceptron_texture.score(X_test_texture, t_test)*100))"
   ],
   "metadata": {
    "collapsed": false,
    "ExecuteTime": {
     "end_time": "2023-12-11T23:03:37.599167500Z",
     "start_time": "2023-12-11T23:03:37.590384100Z"
    }
   },
   "id": "75fc0e6182e57cbe"
  },
  {
   "cell_type": "markdown",
   "source": [
    "### Margin and Texture"
   ],
   "metadata": {
    "collapsed": false
   },
   "id": "e7988910bbed1253"
  },
  {
   "cell_type": "code",
   "execution_count": 25,
   "outputs": [
    {
     "name": "stdout",
     "output_type": "stream",
     "text": [
      "Fitting 3 folds for each of 100 candidates, totalling 300 fits\n",
      "Done\n"
     ]
    }
   ],
   "source": [
    "# Parameters to be tested\n",
    "param_grid_perceptron = {\n",
    "    'eta0' : all_values_lr,\n",
    "    'alpha' : all_values_alpha\n",
    "}\n",
    "\n",
    "# Creation of the grid search model\n",
    "perceptron_texture = GridSearchCV(Perceptron(penalty='l2', max_iter=max_iter), param_grid_perceptron, cv=3, verbose=3, n_jobs=-1)\n",
    "\n",
    "# Training the model with grid search\n",
    "perceptron_texture.fit(np.hstack((X_train_margin, X_train_texture)), t_train)\n",
    "print('Done')"
   ],
   "metadata": {
    "collapsed": false,
    "ExecuteTime": {
     "end_time": "2023-12-11T23:03:43.214316800Z",
     "start_time": "2023-12-11T23:03:37.601122Z"
    }
   },
   "id": "748ad8d9ad34762d"
  },
  {
   "cell_type": "code",
   "execution_count": 26,
   "outputs": [
    {
     "name": "stdout",
     "output_type": "stream",
     "text": [
      "Best parameters : {'alpha': 1e-09, 'eta0': 1.0}\n",
      "Best accuracy on a split : 86.44%\n",
      "Accuracy X_train, t_train : 99.86%\n",
      "Accuracy X_test, t_test : 85.86%\n"
     ]
    }
   ],
   "source": [
    "print(\"Best parameters :\", perceptron_texture.best_params_)\n",
    "print(\"Best accuracy on a split : {:.2f}%\".format(perceptron_texture.best_score_*100))\n",
    "print(\"Accuracy X_train, t_train : {:.2f}%\".format(perceptron_texture.score(np.hstack((X_train_margin, X_train_texture)), t_train)*100))\n",
    "print(\"Accuracy X_test, t_test : {:.2f}%\".format(perceptron_texture.score(np.hstack((X_test_margin, X_test_texture)), t_test)*100))"
   ],
   "metadata": {
    "collapsed": false,
    "ExecuteTime": {
     "end_time": "2023-12-11T23:03:43.277757100Z",
     "start_time": "2023-12-11T23:03:43.212366600Z"
    }
   },
   "id": "e1294def3a850f3b"
  }
 ],
 "metadata": {
  "kernelspec": {
   "display_name": "Python 3",
   "language": "python",
   "name": "python3"
  },
  "language_info": {
   "codemirror_mode": {
    "name": "ipython",
    "version": 2
   },
   "file_extension": ".py",
   "mimetype": "text/x-python",
   "name": "python",
   "nbconvert_exporter": "python",
   "pygments_lexer": "ipython2",
   "version": "2.7.6"
  }
 },
 "nbformat": 4,
 "nbformat_minor": 5
}
