{
 "cells": [
  {
   "cell_type": "code",
   "execution_count": 20,
   "id": "initial_id",
   "metadata": {
    "collapsed": true,
    "ExecuteTime": {
     "end_time": "2023-12-01T00:03:03.782506700Z",
     "start_time": "2023-12-01T00:03:03.763959400Z"
    }
   },
   "outputs": [],
   "source": [
    "import numpy as np\n",
    "import pandas as pd\n",
    "from sklearn.linear_model import Perceptron\n",
    "from sklearn.model_selection import train_test_split, cross_val_score, validation_curve\n",
    "import matplotlib.pyplot as plt\n",
    "from umap import UMAP\n",
    "from sklearn.metrics import accuracy_score"
   ]
  },
  {
   "cell_type": "code",
   "execution_count": 2,
   "outputs": [
    {
     "data": {
      "text/plain": "   id      species   margin1   margin2   margin3   margin4   margin5  \\\n0   1  Acer_Opalus  0.007812  0.023438  0.023438  0.003906  0.011719   \n\n    margin6   margin7  margin8  ...  texture55  texture56  texture57  \\\n0  0.009766  0.027344      0.0  ...   0.007812        0.0    0.00293   \n\n   texture58  texture59  texture60  texture61  texture62  texture63  texture64  \n0    0.00293   0.035156        0.0        0.0   0.004883        0.0   0.025391  \n\n[1 rows x 194 columns]",
      "text/html": "<div>\n<style scoped>\n    .dataframe tbody tr th:only-of-type {\n        vertical-align: middle;\n    }\n\n    .dataframe tbody tr th {\n        vertical-align: top;\n    }\n\n    .dataframe thead th {\n        text-align: right;\n    }\n</style>\n<table border=\"1\" class=\"dataframe\">\n  <thead>\n    <tr style=\"text-align: right;\">\n      <th></th>\n      <th>id</th>\n      <th>species</th>\n      <th>margin1</th>\n      <th>margin2</th>\n      <th>margin3</th>\n      <th>margin4</th>\n      <th>margin5</th>\n      <th>margin6</th>\n      <th>margin7</th>\n      <th>margin8</th>\n      <th>...</th>\n      <th>texture55</th>\n      <th>texture56</th>\n      <th>texture57</th>\n      <th>texture58</th>\n      <th>texture59</th>\n      <th>texture60</th>\n      <th>texture61</th>\n      <th>texture62</th>\n      <th>texture63</th>\n      <th>texture64</th>\n    </tr>\n  </thead>\n  <tbody>\n    <tr>\n      <th>0</th>\n      <td>1</td>\n      <td>Acer_Opalus</td>\n      <td>0.007812</td>\n      <td>0.023438</td>\n      <td>0.023438</td>\n      <td>0.003906</td>\n      <td>0.011719</td>\n      <td>0.009766</td>\n      <td>0.027344</td>\n      <td>0.0</td>\n      <td>...</td>\n      <td>0.007812</td>\n      <td>0.0</td>\n      <td>0.00293</td>\n      <td>0.00293</td>\n      <td>0.035156</td>\n      <td>0.0</td>\n      <td>0.0</td>\n      <td>0.004883</td>\n      <td>0.0</td>\n      <td>0.025391</td>\n    </tr>\n  </tbody>\n</table>\n<p>1 rows × 194 columns</p>\n</div>"
     },
     "execution_count": 2,
     "metadata": {},
     "output_type": "execute_result"
    }
   ],
   "source": [
    "df_data = pd.read_csv('../data/train.csv')\n",
    "df_data.head(1)"
   ],
   "metadata": {
    "collapsed": false,
    "ExecuteTime": {
     "end_time": "2023-11-30T23:57:16.316070600Z",
     "start_time": "2023-11-30T23:57:16.212095500Z"
    }
   },
   "id": "4f3f30fd0b239786"
  },
  {
   "cell_type": "code",
   "execution_count": 4,
   "outputs": [],
   "source": [
    "X = df_data.copy().drop(['id', 'species'],axis='columns').values\n",
    "\n",
    "species = df_data['species'].unique()\n",
    "\n",
    "# Création des vecteurs one-hot pour la matrice de targets\n",
    "t = np.zeros(df_data.shape[0])\n",
    "for i in range(species.size):\n",
    "    t[df_data['species'] == species[i]] = i"
   ],
   "metadata": {
    "collapsed": false,
    "ExecuteTime": {
     "end_time": "2023-11-30T23:57:21.667654600Z",
     "start_time": "2023-11-30T23:57:21.605190700Z"
    }
   },
   "id": "8e2e969ee1f4ba2c"
  },
  {
   "cell_type": "code",
   "execution_count": 5,
   "outputs": [],
   "source": [
    "X_train, X_test, t_train, t_test = train_test_split(X, t, test_size=0.3, random_state=0)"
   ],
   "metadata": {
    "collapsed": false,
    "ExecuteTime": {
     "end_time": "2023-11-30T23:57:24.709366Z",
     "start_time": "2023-11-30T23:57:24.679111300Z"
    }
   },
   "id": "606d873b740a9b8f"
  },
  {
   "cell_type": "code",
   "execution_count": 6,
   "outputs": [
    {
     "data": {
      "text/plain": "Perceptron(alpha=0.001, eta0=0.001, max_iter=10000, penalty='l2')",
      "text/html": "<style>#sk-container-id-1 {color: black;}#sk-container-id-1 pre{padding: 0;}#sk-container-id-1 div.sk-toggleable {background-color: white;}#sk-container-id-1 label.sk-toggleable__label {cursor: pointer;display: block;width: 100%;margin-bottom: 0;padding: 0.3em;box-sizing: border-box;text-align: center;}#sk-container-id-1 label.sk-toggleable__label-arrow:before {content: \"▸\";float: left;margin-right: 0.25em;color: #696969;}#sk-container-id-1 label.sk-toggleable__label-arrow:hover:before {color: black;}#sk-container-id-1 div.sk-estimator:hover label.sk-toggleable__label-arrow:before {color: black;}#sk-container-id-1 div.sk-toggleable__content {max-height: 0;max-width: 0;overflow: hidden;text-align: left;background-color: #f0f8ff;}#sk-container-id-1 div.sk-toggleable__content pre {margin: 0.2em;color: black;border-radius: 0.25em;background-color: #f0f8ff;}#sk-container-id-1 input.sk-toggleable__control:checked~div.sk-toggleable__content {max-height: 200px;max-width: 100%;overflow: auto;}#sk-container-id-1 input.sk-toggleable__control:checked~label.sk-toggleable__label-arrow:before {content: \"▾\";}#sk-container-id-1 div.sk-estimator input.sk-toggleable__control:checked~label.sk-toggleable__label {background-color: #d4ebff;}#sk-container-id-1 div.sk-label input.sk-toggleable__control:checked~label.sk-toggleable__label {background-color: #d4ebff;}#sk-container-id-1 input.sk-hidden--visually {border: 0;clip: rect(1px 1px 1px 1px);clip: rect(1px, 1px, 1px, 1px);height: 1px;margin: -1px;overflow: hidden;padding: 0;position: absolute;width: 1px;}#sk-container-id-1 div.sk-estimator {font-family: monospace;background-color: #f0f8ff;border: 1px dotted black;border-radius: 0.25em;box-sizing: border-box;margin-bottom: 0.5em;}#sk-container-id-1 div.sk-estimator:hover {background-color: #d4ebff;}#sk-container-id-1 div.sk-parallel-item::after {content: \"\";width: 100%;border-bottom: 1px solid gray;flex-grow: 1;}#sk-container-id-1 div.sk-label:hover label.sk-toggleable__label {background-color: #d4ebff;}#sk-container-id-1 div.sk-serial::before {content: \"\";position: absolute;border-left: 1px solid gray;box-sizing: border-box;top: 0;bottom: 0;left: 50%;z-index: 0;}#sk-container-id-1 div.sk-serial {display: flex;flex-direction: column;align-items: center;background-color: white;padding-right: 0.2em;padding-left: 0.2em;position: relative;}#sk-container-id-1 div.sk-item {position: relative;z-index: 1;}#sk-container-id-1 div.sk-parallel {display: flex;align-items: stretch;justify-content: center;background-color: white;position: relative;}#sk-container-id-1 div.sk-item::before, #sk-container-id-1 div.sk-parallel-item::before {content: \"\";position: absolute;border-left: 1px solid gray;box-sizing: border-box;top: 0;bottom: 0;left: 50%;z-index: -1;}#sk-container-id-1 div.sk-parallel-item {display: flex;flex-direction: column;z-index: 1;position: relative;background-color: white;}#sk-container-id-1 div.sk-parallel-item:first-child::after {align-self: flex-end;width: 50%;}#sk-container-id-1 div.sk-parallel-item:last-child::after {align-self: flex-start;width: 50%;}#sk-container-id-1 div.sk-parallel-item:only-child::after {width: 0;}#sk-container-id-1 div.sk-dashed-wrapped {border: 1px dashed gray;margin: 0 0.4em 0.5em 0.4em;box-sizing: border-box;padding-bottom: 0.4em;background-color: white;}#sk-container-id-1 div.sk-label label {font-family: monospace;font-weight: bold;display: inline-block;line-height: 1.2em;}#sk-container-id-1 div.sk-label-container {text-align: center;}#sk-container-id-1 div.sk-container {/* jupyter's `normalize.less` sets `[hidden] { display: none; }` but bootstrap.min.css set `[hidden] { display: none !important; }` so we also need the `!important` here to be able to override the default hidden behavior on the sphinx rendered scikit-learn.org. See: https://github.com/scikit-learn/scikit-learn/issues/21755 */display: inline-block !important;position: relative;}#sk-container-id-1 div.sk-text-repr-fallback {display: none;}</style><div id=\"sk-container-id-1\" class=\"sk-top-container\"><div class=\"sk-text-repr-fallback\"><pre>Perceptron(alpha=0.001, eta0=0.001, max_iter=10000, penalty=&#x27;l2&#x27;)</pre><b>In a Jupyter environment, please rerun this cell to show the HTML representation or trust the notebook. <br />On GitHub, the HTML representation is unable to render, please try loading this page with nbviewer.org.</b></div><div class=\"sk-container\" hidden><div class=\"sk-item\"><div class=\"sk-estimator sk-toggleable\"><input class=\"sk-toggleable__control sk-hidden--visually\" id=\"sk-estimator-id-1\" type=\"checkbox\" checked><label for=\"sk-estimator-id-1\" class=\"sk-toggleable__label sk-toggleable__label-arrow\">Perceptron</label><div class=\"sk-toggleable__content\"><pre>Perceptron(alpha=0.001, eta0=0.001, max_iter=10000, penalty=&#x27;l2&#x27;)</pre></div></div></div></div></div>"
     },
     "execution_count": 6,
     "metadata": {},
     "output_type": "execute_result"
    }
   ],
   "source": [
    "alpha = 0.001\n",
    "max_iter = 10000\n",
    "learning_rate = 0.001\n",
    "\n",
    "# création d'un classifieur binaire pour chaque classe\n",
    "classifieur = Perceptron(penalty='l2', alpha=alpha, max_iter=max_iter, eta0=learning_rate)    \n",
    "classifieur.fit(X_train, t_train)"
   ],
   "metadata": {
    "collapsed": false,
    "ExecuteTime": {
     "end_time": "2023-11-30T23:57:25.936274700Z",
     "start_time": "2023-11-30T23:57:25.536145400Z"
    }
   },
   "id": "9cad2785fc3624e3"
  },
  {
   "cell_type": "code",
   "execution_count": 7,
   "outputs": [
    {
     "data": {
      "text/plain": "0.45165945165945165"
     },
     "execution_count": 7,
     "metadata": {},
     "output_type": "execute_result"
    }
   ],
   "source": [
    "classifieur.score(X_train, t_train)"
   ],
   "metadata": {
    "collapsed": false,
    "ExecuteTime": {
     "end_time": "2023-11-30T23:57:28.318292100Z",
     "start_time": "2023-11-30T23:57:28.292916300Z"
    }
   },
   "id": "7616c62a5b628451"
  },
  {
   "cell_type": "code",
   "execution_count": 30,
   "outputs": [],
   "source": [
    "all_values_lr = np.logspace(-9, 1, 10)\n",
    "all_values_alpha = np.logspace(-9, 1, 10)\n",
    "models = []\n",
    "nb_cv = 3\n",
    "results = np.empty((0, nb_cv))\n",
    "for val_lr in all_values_lr:\n",
    "    for val_alpha in all_values_alpha:\n",
    "        model = Perceptron(penalty='l2', alpha=val_alpha, max_iter=max_iter, eta0=val_lr) \n",
    "        models.append(model)\n",
    "        result = cross_val_score(model, X_train, t_train, cv=nb_cv)\n",
    "        results = np.vstack((results, result))"
   ],
   "metadata": {
    "collapsed": false,
    "ExecuteTime": {
     "end_time": "2023-12-01T00:09:54.614229200Z",
     "start_time": "2023-12-01T00:09:10.560997800Z"
    }
   },
   "id": "8e50c4186fce2892"
  },
  {
   "cell_type": "code",
   "execution_count": 31,
   "outputs": [
    {
     "data": {
      "text/plain": "array([[0.17748918, 0.6017316 , 0.23809524],\n       [0.17748918, 0.6017316 , 0.23809524],\n       [0.17748918, 0.6017316 , 0.23809524],\n       [0.17748918, 0.6017316 , 0.23809524],\n       [0.17748918, 0.6017316 , 0.23809524],\n       [0.17748918, 0.6017316 , 0.23809524],\n       [0.17748918, 0.6017316 , 0.23809524],\n       [0.17748918, 0.6017316 , 0.23809524],\n       [0.17748918, 0.6017316 , 0.23809524],\n       [0.17748918, 0.6017316 , 0.23809524],\n       [0.17748918, 0.6017316 , 0.23809524],\n       [0.17748918, 0.6017316 , 0.23809524],\n       [0.17748918, 0.6017316 , 0.23809524],\n       [0.17748918, 0.6017316 , 0.23809524],\n       [0.17748918, 0.6017316 , 0.23809524],\n       [0.17748918, 0.6017316 , 0.23809524],\n       [0.17748918, 0.6017316 , 0.23809524],\n       [0.17748918, 0.6017316 , 0.23809524],\n       [0.17748918, 0.6017316 , 0.23809524],\n       [0.17748918, 0.6017316 , 0.23809524],\n       [0.17748918, 0.6017316 , 0.23809524],\n       [0.17748918, 0.6017316 , 0.23809524],\n       [0.17748918, 0.6017316 , 0.23809524],\n       [0.17748918, 0.6017316 , 0.23809524],\n       [0.17748918, 0.6017316 , 0.23809524],\n       [0.17748918, 0.6017316 , 0.23809524],\n       [0.17748918, 0.6017316 , 0.23809524],\n       [0.17748918, 0.6017316 , 0.23809524],\n       [0.17748918, 0.6017316 , 0.23809524],\n       [0.17748918, 0.61038961, 0.24242424],\n       [0.17748918, 0.6017316 , 0.23809524],\n       [0.17748918, 0.6017316 , 0.23809524],\n       [0.17748918, 0.6017316 , 0.23809524],\n       [0.17748918, 0.6017316 , 0.23809524],\n       [0.17748918, 0.6017316 , 0.23809524],\n       [0.17748918, 0.6017316 , 0.23809524],\n       [0.17748918, 0.6017316 , 0.23809524],\n       [0.17748918, 0.6017316 , 0.23809524],\n       [0.17748918, 0.61038961, 0.24242424],\n       [0.17748918, 0.64502165, 0.23376623],\n       [0.17748918, 0.6017316 , 0.23809524],\n       [0.17748918, 0.6017316 , 0.23809524],\n       [0.17748918, 0.6017316 , 0.23809524],\n       [0.17748918, 0.6017316 , 0.23809524],\n       [0.17748918, 0.6017316 , 0.23809524],\n       [0.17748918, 0.6017316 , 0.23809524],\n       [0.17748918, 0.6017316 , 0.23809524],\n       [0.17748918, 0.61038961, 0.24242424],\n       [0.17748918, 0.64502165, 0.23376623],\n       [0.12554113, 0.64935065, 0.1038961 ],\n       [0.17748918, 0.6017316 , 0.23809524],\n       [0.17748918, 0.6017316 , 0.23809524],\n       [0.17748918, 0.6017316 , 0.23809524],\n       [0.17748918, 0.6017316 , 0.23809524],\n       [0.17748918, 0.6017316 , 0.23809524],\n       [0.17748918, 0.6017316 , 0.23809524],\n       [0.17748918, 0.61038961, 0.24242424],\n       [0.17748918, 0.64502165, 0.23376623],\n       [0.12554113, 0.64935065, 0.1038961 ],\n       [0.004329  , 0.37662338, 0.31601732],\n       [0.17748918, 0.6017316 , 0.23809524],\n       [0.17748918, 0.6017316 , 0.23809524],\n       [0.17748918, 0.6017316 , 0.23809524],\n       [0.17748918, 0.6017316 , 0.23809524],\n       [0.17748918, 0.6017316 , 0.23809524],\n       [0.17748918, 0.61038961, 0.24242424],\n       [0.17748918, 0.64502165, 0.23376623],\n       [0.12554113, 0.64935065, 0.1038961 ],\n       [0.004329  , 0.37662338, 0.31601732],\n       [0.004329  , 0.11255411, 0.13852814],\n       [0.17748918, 0.6017316 , 0.23809524],\n       [0.17748918, 0.6017316 , 0.23809524],\n       [0.17748918, 0.6017316 , 0.23809524],\n       [0.17748918, 0.6017316 , 0.23809524],\n       [0.17748918, 0.61038961, 0.24242424],\n       [0.17748918, 0.64502165, 0.23376623],\n       [0.12554113, 0.64935065, 0.1038961 ],\n       [0.004329  , 0.37662338, 0.31601732],\n       [0.004329  , 0.11255411, 0.13852814],\n       [0.004329  , 0.05627706, 0.04761905],\n       [0.27705628, 0.5021645 , 0.67099567],\n       [0.27705628, 0.5021645 , 0.67099567],\n       [0.27705628, 0.4978355 , 0.67099567],\n       [0.29004329, 0.48051948, 0.67099567],\n       [0.47186147, 0.46753247, 0.65800866],\n       [0.21212121, 0.6017316 , 0.56277056],\n       [0.01731602, 0.35497835, 0.00865801],\n       [0.004329  , 0.08658009, 0.11255411],\n       [0.004329  , 0.07792208, 0.05194805],\n       [0.004329  , 0.00865801, 0.01298701],\n       [0.7965368 , 0.80519481, 0.7965368 ],\n       [0.78354978, 0.8008658 , 0.7965368 ],\n       [0.79220779, 0.76623377, 0.79220779],\n       [0.75324675, 0.81818182, 0.7965368 ],\n       [0.14718615, 0.27272727, 0.22510823],\n       [0.01298701, 0.36363636, 0.01731602],\n       [0.01298701, 0.09090909, 0.13852814],\n       [0.004329  , 0.06926407, 0.01731602],\n       [0.004329  , 0.00865801, 0.01731602],\n       [0.004329  , 0.00865801, 0.01731602]])"
     },
     "execution_count": 31,
     "metadata": {},
     "output_type": "execute_result"
    }
   ],
   "source": [
    "results"
   ],
   "metadata": {
    "collapsed": false,
    "ExecuteTime": {
     "end_time": "2023-12-01T00:09:54.624964800Z",
     "start_time": "2023-12-01T00:09:54.620084600Z"
    }
   },
   "id": "124e63d8c34c4502"
  },
  {
   "cell_type": "code",
   "execution_count": 32,
   "outputs": [
    {
     "data": {
      "text/plain": "(93, 1)"
     },
     "execution_count": 32,
     "metadata": {},
     "output_type": "execute_result"
    }
   ],
   "source": [
    "max_index = np.unravel_index(np.argmax(results, axis=None), results.shape)\n",
    "max_index"
   ],
   "metadata": {
    "collapsed": false,
    "ExecuteTime": {
     "end_time": "2023-12-01T00:09:54.656198300Z",
     "start_time": "2023-12-01T00:09:54.627893100Z"
    }
   },
   "id": "d0a048ccb35a0896"
  },
  {
   "cell_type": "code",
   "execution_count": 33,
   "outputs": [
    {
     "name": "stdout",
     "output_type": "stream",
     "text": [
      "Indice du résultat le plus élevé : (93, 1)\n",
      "Valeur du résultat le plus élevé : 0.8181818181818182\n"
     ]
    }
   ],
   "source": [
    "# Afficher le résultat\n",
    "print(\"Indice du résultat le plus élevé :\", max_index)\n",
    "print(\"Valeur du résultat le plus élevé :\", results[max_index])"
   ],
   "metadata": {
    "collapsed": false,
    "ExecuteTime": {
     "end_time": "2023-12-01T00:09:54.656198300Z",
     "start_time": "2023-12-01T00:09:54.640581200Z"
    }
   },
   "id": "d41bba9b85892f0a"
  },
  {
   "cell_type": "code",
   "execution_count": 34,
   "outputs": [
    {
     "data": {
      "text/plain": "Perceptron(alpha=2.1544346900318865e-06, eta0=10.0, max_iter=10000,\n           penalty='l2')",
      "text/html": "<style>#sk-container-id-4 {color: black;}#sk-container-id-4 pre{padding: 0;}#sk-container-id-4 div.sk-toggleable {background-color: white;}#sk-container-id-4 label.sk-toggleable__label {cursor: pointer;display: block;width: 100%;margin-bottom: 0;padding: 0.3em;box-sizing: border-box;text-align: center;}#sk-container-id-4 label.sk-toggleable__label-arrow:before {content: \"▸\";float: left;margin-right: 0.25em;color: #696969;}#sk-container-id-4 label.sk-toggleable__label-arrow:hover:before {color: black;}#sk-container-id-4 div.sk-estimator:hover label.sk-toggleable__label-arrow:before {color: black;}#sk-container-id-4 div.sk-toggleable__content {max-height: 0;max-width: 0;overflow: hidden;text-align: left;background-color: #f0f8ff;}#sk-container-id-4 div.sk-toggleable__content pre {margin: 0.2em;color: black;border-radius: 0.25em;background-color: #f0f8ff;}#sk-container-id-4 input.sk-toggleable__control:checked~div.sk-toggleable__content {max-height: 200px;max-width: 100%;overflow: auto;}#sk-container-id-4 input.sk-toggleable__control:checked~label.sk-toggleable__label-arrow:before {content: \"▾\";}#sk-container-id-4 div.sk-estimator input.sk-toggleable__control:checked~label.sk-toggleable__label {background-color: #d4ebff;}#sk-container-id-4 div.sk-label input.sk-toggleable__control:checked~label.sk-toggleable__label {background-color: #d4ebff;}#sk-container-id-4 input.sk-hidden--visually {border: 0;clip: rect(1px 1px 1px 1px);clip: rect(1px, 1px, 1px, 1px);height: 1px;margin: -1px;overflow: hidden;padding: 0;position: absolute;width: 1px;}#sk-container-id-4 div.sk-estimator {font-family: monospace;background-color: #f0f8ff;border: 1px dotted black;border-radius: 0.25em;box-sizing: border-box;margin-bottom: 0.5em;}#sk-container-id-4 div.sk-estimator:hover {background-color: #d4ebff;}#sk-container-id-4 div.sk-parallel-item::after {content: \"\";width: 100%;border-bottom: 1px solid gray;flex-grow: 1;}#sk-container-id-4 div.sk-label:hover label.sk-toggleable__label {background-color: #d4ebff;}#sk-container-id-4 div.sk-serial::before {content: \"\";position: absolute;border-left: 1px solid gray;box-sizing: border-box;top: 0;bottom: 0;left: 50%;z-index: 0;}#sk-container-id-4 div.sk-serial {display: flex;flex-direction: column;align-items: center;background-color: white;padding-right: 0.2em;padding-left: 0.2em;position: relative;}#sk-container-id-4 div.sk-item {position: relative;z-index: 1;}#sk-container-id-4 div.sk-parallel {display: flex;align-items: stretch;justify-content: center;background-color: white;position: relative;}#sk-container-id-4 div.sk-item::before, #sk-container-id-4 div.sk-parallel-item::before {content: \"\";position: absolute;border-left: 1px solid gray;box-sizing: border-box;top: 0;bottom: 0;left: 50%;z-index: -1;}#sk-container-id-4 div.sk-parallel-item {display: flex;flex-direction: column;z-index: 1;position: relative;background-color: white;}#sk-container-id-4 div.sk-parallel-item:first-child::after {align-self: flex-end;width: 50%;}#sk-container-id-4 div.sk-parallel-item:last-child::after {align-self: flex-start;width: 50%;}#sk-container-id-4 div.sk-parallel-item:only-child::after {width: 0;}#sk-container-id-4 div.sk-dashed-wrapped {border: 1px dashed gray;margin: 0 0.4em 0.5em 0.4em;box-sizing: border-box;padding-bottom: 0.4em;background-color: white;}#sk-container-id-4 div.sk-label label {font-family: monospace;font-weight: bold;display: inline-block;line-height: 1.2em;}#sk-container-id-4 div.sk-label-container {text-align: center;}#sk-container-id-4 div.sk-container {/* jupyter's `normalize.less` sets `[hidden] { display: none; }` but bootstrap.min.css set `[hidden] { display: none !important; }` so we also need the `!important` here to be able to override the default hidden behavior on the sphinx rendered scikit-learn.org. See: https://github.com/scikit-learn/scikit-learn/issues/21755 */display: inline-block !important;position: relative;}#sk-container-id-4 div.sk-text-repr-fallback {display: none;}</style><div id=\"sk-container-id-4\" class=\"sk-top-container\"><div class=\"sk-text-repr-fallback\"><pre>Perceptron(alpha=2.1544346900318865e-06, eta0=10.0, max_iter=10000,\n           penalty=&#x27;l2&#x27;)</pre><b>In a Jupyter environment, please rerun this cell to show the HTML representation or trust the notebook. <br />On GitHub, the HTML representation is unable to render, please try loading this page with nbviewer.org.</b></div><div class=\"sk-container\" hidden><div class=\"sk-item\"><div class=\"sk-estimator sk-toggleable\"><input class=\"sk-toggleable__control sk-hidden--visually\" id=\"sk-estimator-id-4\" type=\"checkbox\" checked><label for=\"sk-estimator-id-4\" class=\"sk-toggleable__label sk-toggleable__label-arrow\">Perceptron</label><div class=\"sk-toggleable__content\"><pre>Perceptron(alpha=2.1544346900318865e-06, eta0=10.0, max_iter=10000,\n           penalty=&#x27;l2&#x27;)</pre></div></div></div></div></div>"
     },
     "execution_count": 34,
     "metadata": {},
     "output_type": "execute_result"
    }
   ],
   "source": [
    "best = models[max_index[0]]\n",
    "best"
   ],
   "metadata": {
    "collapsed": false,
    "ExecuteTime": {
     "end_time": "2023-12-01T00:09:54.680597500Z",
     "start_time": "2023-12-01T00:09:54.652292700Z"
    }
   },
   "id": "d362b58fa11ba724"
  },
  {
   "cell_type": "code",
   "execution_count": 35,
   "outputs": [
    {
     "data": {
      "text/plain": "0.9278499278499278"
     },
     "execution_count": 35,
     "metadata": {},
     "output_type": "execute_result"
    }
   ],
   "source": [
    "best.fit(X_train, t_train)\n",
    "best.score(X_train, t_train)"
   ],
   "metadata": {
    "collapsed": false,
    "ExecuteTime": {
     "end_time": "2023-12-01T00:09:55.016923200Z",
     "start_time": "2023-12-01T00:09:54.669861600Z"
    }
   },
   "id": "77263d6a5d15fb45"
  },
  {
   "cell_type": "code",
   "execution_count": 36,
   "outputs": [
    {
     "data": {
      "text/plain": "0.7744107744107744"
     },
     "execution_count": 36,
     "metadata": {},
     "output_type": "execute_result"
    }
   ],
   "source": [
    "best.score(X_test, t_test)"
   ],
   "metadata": {
    "collapsed": false,
    "ExecuteTime": {
     "end_time": "2023-12-01T00:09:55.017900100Z",
     "start_time": "2023-12-01T00:09:55.011067900Z"
    }
   },
   "id": "f98d1eea0be51207"
  },
  {
   "cell_type": "markdown",
   "source": [
    "# Visualisation de notre apprentissage"
   ],
   "metadata": {
    "collapsed": false
   },
   "id": "c5a9b59720e55a32"
  },
  {
   "cell_type": "code",
   "execution_count": 18,
   "outputs": [
    {
     "ename": "NameError",
     "evalue": "name 'accuracy_score' is not defined",
     "output_type": "error",
     "traceback": [
      "\u001B[1;31m---------------------------------------------------------------------------\u001B[0m",
      "\u001B[1;31mNameError\u001B[0m                                 Traceback (most recent call last)",
      "Cell \u001B[1;32mIn[18], line 7\u001B[0m\n\u001B[0;32m      5\u001B[0m \u001B[38;5;66;03m# Prédire les classes pour l'ensemble de train\u001B[39;00m\n\u001B[0;32m      6\u001B[0m t_pred \u001B[38;5;241m=\u001B[39m best\u001B[38;5;241m.\u001B[39mpredict(X_train)\n\u001B[1;32m----> 7\u001B[0m accuracy \u001B[38;5;241m=\u001B[39m \u001B[43maccuracy_score\u001B[49m(t_train, t_pred)\n\u001B[0;32m      8\u001B[0m \u001B[38;5;28mprint\u001B[39m(\u001B[38;5;124mf\u001B[39m\u001B[38;5;124m\"\u001B[39m\u001B[38;5;124mPrécision du modèle sur l\u001B[39m\u001B[38;5;124m'\u001B[39m\u001B[38;5;124mensemble d\u001B[39m\u001B[38;5;124m'\u001B[39m\u001B[38;5;124mentraînement : \u001B[39m\u001B[38;5;132;01m{\u001B[39;00maccuracy\u001B[38;5;132;01m:\u001B[39;00m\u001B[38;5;124m.2f\u001B[39m\u001B[38;5;132;01m}\u001B[39;00m\u001B[38;5;124m\"\u001B[39m)\n\u001B[0;32m     10\u001B[0m umap_model_predictions \u001B[38;5;241m=\u001B[39m UMAP(n_components\u001B[38;5;241m=\u001B[39m\u001B[38;5;241m2\u001B[39m)\n",
      "\u001B[1;31mNameError\u001B[0m: name 'accuracy_score' is not defined"
     ]
    }
   ],
   "source": [
    "# Réduire la dimensionnalité à 2 avec UMAP pour les étiquettes connues\n",
    "umap_model_labels = UMAP(n_components=2)\n",
    "X_train_umap_labels = umap_model_labels.fit_transform(X_train)\n",
    "\n",
    "# Prédire les classes pour l'ensemble de train\n",
    "t_pred = best.predict(X_train)\n",
    "accuracy = accuracy_score(t_train, t_pred)\n",
    "print(f\"Précision du modèle sur l'ensemble d'entraînement : {accuracy:.2f}\")\n",
    "\n",
    "umap_model_predictions = UMAP(n_components=2)\n",
    "X_train_umap_predictions = umap_model_predictions.fit_transform(X_train)\n",
    "\n",
    "plt.figure(figsize=(12, 5))\n",
    "\n",
    "plt.subplot(1, 2, 1)\n",
    "scatter_umap_labels = plt.scatter(X_train_umap_labels[:, 0], X_train_umap_labels[:, 1], c=t_train, cmap='viridis')\n",
    "plt.title('UMAP des étiquettes connues')\n",
    "plt.xlabel('UMAP Composante 1')\n",
    "plt.ylabel('UMAP Composante 2')\n",
    "plt.colorbar(scatter_umap_labels, label='Classes réelles')\n",
    "\n",
    "plt.subplot(1, 2, 2)\n",
    "scatter_umap_predictions = plt.scatter(X_train_umap_predictions[:, 0], X_train_umap_predictions[:, 1], c=t_pred, cmap='viridis')\n",
    "plt.title('UMAP des prédictions du modèle')\n",
    "plt.xlabel('UMAP Composante 1')\n",
    "plt.ylabel('UMAP Composante 2')\n",
    "plt.colorbar(scatter_umap_predictions, label='Classes prédites')\n",
    "\n",
    "plt.tight_layout()\n",
    "plt.show()"
   ],
   "metadata": {
    "collapsed": false,
    "ExecuteTime": {
     "end_time": "2023-12-01T00:00:54.225634200Z",
     "start_time": "2023-12-01T00:00:40.517384Z"
    }
   },
   "id": "41bc01a0e0c1237b"
  }
 ],
 "metadata": {
  "kernelspec": {
   "display_name": "Python 3",
   "language": "python",
   "name": "python3"
  },
  "language_info": {
   "codemirror_mode": {
    "name": "ipython",
    "version": 2
   },
   "file_extension": ".py",
   "mimetype": "text/x-python",
   "name": "python",
   "nbconvert_exporter": "python",
   "pygments_lexer": "ipython2",
   "version": "2.7.6"
  }
 },
 "nbformat": 4,
 "nbformat_minor": 5
}
