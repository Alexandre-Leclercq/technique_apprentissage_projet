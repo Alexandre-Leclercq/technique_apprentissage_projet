{
 "cells": [
  {
   "cell_type": "code",
   "execution_count": 1,
   "id": "initial_id",
   "metadata": {
    "collapsed": true,
    "ExecuteTime": {
     "end_time": "2023-12-08T03:23:07.636468Z",
     "start_time": "2023-12-08T03:23:07.284134Z"
    }
   },
   "outputs": [],
   "source": [
    "from sklearn.neural_network import MLPClassifier\n",
    "from sklearn.model_selection import train_test_split, cross_val_score, validation_curve\n",
    "import pandas as pd\n",
    "import numpy as np\n",
    "import matplotlib.pyplot as pl"
   ]
  },
  {
   "cell_type": "code",
   "execution_count": 2,
   "outputs": [
    {
     "data": {
      "text/plain": "   id                species   margin1   margin2   margin3   margin4  \\\n0   1            Acer_Opalus  0.007812  0.023438  0.023438  0.003906   \n1   2  Pterocarya_Stenoptera  0.005859  0.000000  0.031250  0.015625   \n2   3   Quercus_Hartwissiana  0.005859  0.009766  0.019531  0.007812   \n3   5        Tilia_Tomentosa  0.000000  0.003906  0.023438  0.005859   \n4   6     Quercus_Variabilis  0.005859  0.003906  0.048828  0.009766   \n\n    margin5   margin6   margin7  margin8  ...  texture55  texture56  \\\n0  0.011719  0.009766  0.027344      0.0  ...   0.007812   0.000000   \n1  0.025391  0.001953  0.019531      0.0  ...   0.000977   0.000000   \n2  0.003906  0.005859  0.068359      0.0  ...   0.154300   0.000000   \n3  0.021484  0.019531  0.023438      0.0  ...   0.000000   0.000977   \n4  0.013672  0.015625  0.005859      0.0  ...   0.096680   0.000000   \n\n   texture57  texture58  texture59  texture60  texture61  texture62  \\\n0   0.002930   0.002930   0.035156        0.0        0.0   0.004883   \n1   0.000000   0.000977   0.023438        0.0        0.0   0.000977   \n2   0.005859   0.000977   0.007812        0.0        0.0   0.000000   \n3   0.000000   0.000000   0.020508        0.0        0.0   0.017578   \n4   0.021484   0.000000   0.000000        0.0        0.0   0.000000   \n\n   texture63  texture64  \n0   0.000000   0.025391  \n1   0.039062   0.022461  \n2   0.020508   0.002930  \n3   0.000000   0.047852  \n4   0.000000   0.031250  \n\n[5 rows x 194 columns]",
      "text/html": "<div>\n<style scoped>\n    .dataframe tbody tr th:only-of-type {\n        vertical-align: middle;\n    }\n\n    .dataframe tbody tr th {\n        vertical-align: top;\n    }\n\n    .dataframe thead th {\n        text-align: right;\n    }\n</style>\n<table border=\"1\" class=\"dataframe\">\n  <thead>\n    <tr style=\"text-align: right;\">\n      <th></th>\n      <th>id</th>\n      <th>species</th>\n      <th>margin1</th>\n      <th>margin2</th>\n      <th>margin3</th>\n      <th>margin4</th>\n      <th>margin5</th>\n      <th>margin6</th>\n      <th>margin7</th>\n      <th>margin8</th>\n      <th>...</th>\n      <th>texture55</th>\n      <th>texture56</th>\n      <th>texture57</th>\n      <th>texture58</th>\n      <th>texture59</th>\n      <th>texture60</th>\n      <th>texture61</th>\n      <th>texture62</th>\n      <th>texture63</th>\n      <th>texture64</th>\n    </tr>\n  </thead>\n  <tbody>\n    <tr>\n      <th>0</th>\n      <td>1</td>\n      <td>Acer_Opalus</td>\n      <td>0.007812</td>\n      <td>0.023438</td>\n      <td>0.023438</td>\n      <td>0.003906</td>\n      <td>0.011719</td>\n      <td>0.009766</td>\n      <td>0.027344</td>\n      <td>0.0</td>\n      <td>...</td>\n      <td>0.007812</td>\n      <td>0.000000</td>\n      <td>0.002930</td>\n      <td>0.002930</td>\n      <td>0.035156</td>\n      <td>0.0</td>\n      <td>0.0</td>\n      <td>0.004883</td>\n      <td>0.000000</td>\n      <td>0.025391</td>\n    </tr>\n    <tr>\n      <th>1</th>\n      <td>2</td>\n      <td>Pterocarya_Stenoptera</td>\n      <td>0.005859</td>\n      <td>0.000000</td>\n      <td>0.031250</td>\n      <td>0.015625</td>\n      <td>0.025391</td>\n      <td>0.001953</td>\n      <td>0.019531</td>\n      <td>0.0</td>\n      <td>...</td>\n      <td>0.000977</td>\n      <td>0.000000</td>\n      <td>0.000000</td>\n      <td>0.000977</td>\n      <td>0.023438</td>\n      <td>0.0</td>\n      <td>0.0</td>\n      <td>0.000977</td>\n      <td>0.039062</td>\n      <td>0.022461</td>\n    </tr>\n    <tr>\n      <th>2</th>\n      <td>3</td>\n      <td>Quercus_Hartwissiana</td>\n      <td>0.005859</td>\n      <td>0.009766</td>\n      <td>0.019531</td>\n      <td>0.007812</td>\n      <td>0.003906</td>\n      <td>0.005859</td>\n      <td>0.068359</td>\n      <td>0.0</td>\n      <td>...</td>\n      <td>0.154300</td>\n      <td>0.000000</td>\n      <td>0.005859</td>\n      <td>0.000977</td>\n      <td>0.007812</td>\n      <td>0.0</td>\n      <td>0.0</td>\n      <td>0.000000</td>\n      <td>0.020508</td>\n      <td>0.002930</td>\n    </tr>\n    <tr>\n      <th>3</th>\n      <td>5</td>\n      <td>Tilia_Tomentosa</td>\n      <td>0.000000</td>\n      <td>0.003906</td>\n      <td>0.023438</td>\n      <td>0.005859</td>\n      <td>0.021484</td>\n      <td>0.019531</td>\n      <td>0.023438</td>\n      <td>0.0</td>\n      <td>...</td>\n      <td>0.000000</td>\n      <td>0.000977</td>\n      <td>0.000000</td>\n      <td>0.000000</td>\n      <td>0.020508</td>\n      <td>0.0</td>\n      <td>0.0</td>\n      <td>0.017578</td>\n      <td>0.000000</td>\n      <td>0.047852</td>\n    </tr>\n    <tr>\n      <th>4</th>\n      <td>6</td>\n      <td>Quercus_Variabilis</td>\n      <td>0.005859</td>\n      <td>0.003906</td>\n      <td>0.048828</td>\n      <td>0.009766</td>\n      <td>0.013672</td>\n      <td>0.015625</td>\n      <td>0.005859</td>\n      <td>0.0</td>\n      <td>...</td>\n      <td>0.096680</td>\n      <td>0.000000</td>\n      <td>0.021484</td>\n      <td>0.000000</td>\n      <td>0.000000</td>\n      <td>0.0</td>\n      <td>0.0</td>\n      <td>0.000000</td>\n      <td>0.000000</td>\n      <td>0.031250</td>\n    </tr>\n  </tbody>\n</table>\n<p>5 rows × 194 columns</p>\n</div>"
     },
     "execution_count": 2,
     "metadata": {},
     "output_type": "execute_result"
    }
   ],
   "source": [
    "df_data = pd.read_csv('../data/train.csv')\n",
    "df_data.head()"
   ],
   "metadata": {
    "collapsed": false,
    "ExecuteTime": {
     "end_time": "2023-12-08T03:23:07.670668Z",
     "start_time": "2023-12-08T03:23:07.637168Z"
    }
   },
   "id": "81a5015b28e6dee4"
  },
  {
   "cell_type": "markdown",
   "source": [
    "## Génération des données d'entrainement et de test"
   ],
   "metadata": {
    "collapsed": false
   },
   "id": "87c1a07b749b7c23"
  },
  {
   "cell_type": "code",
   "execution_count": 3,
   "outputs": [],
   "source": [
    "X = df_data.copy().drop(['id', 'species'],axis='columns').values\n",
    "\n",
    "species = df_data['species'].unique()\n",
    "\n",
    "# Création des vecteurs one-hot pour la matrice de targets\n",
    "t = np.zeros((len(X),species.size)) \n",
    "for i in range(species.size):\n",
    "    t[df_data['species'] == species[i], i] = 1"
   ],
   "metadata": {
    "collapsed": false,
    "ExecuteTime": {
     "end_time": "2023-12-08T03:23:07.680514Z",
     "start_time": "2023-12-08T03:23:07.671949Z"
    }
   },
   "id": "de83ecaa1da8c1bf"
  },
  {
   "cell_type": "markdown",
   "source": [
    "We split the data in two: \n",
    "- 70% D_train;\n",
    "- 30% D_test;\n",
    "\n",
    "In addition, we have in our dataset 99 different species each represented by 10 individuals.\n",
    "If we apply a 70%/30% ration we have on average:\n",
    "- 7 individuals per species for the training set.\n",
    "- 3 individuals per species for the test set."
   ],
   "metadata": {
    "collapsed": false
   },
   "id": "52cddefb64722892"
  },
  {
   "cell_type": "code",
   "execution_count": 4,
   "outputs": [],
   "source": [
    "X_train, X_test, t_train, t_test = train_test_split(X, t, test_size=0.3, random_state=0)"
   ],
   "metadata": {
    "collapsed": false,
    "ExecuteTime": {
     "end_time": "2023-12-08T03:23:07.684240Z",
     "start_time": "2023-12-08T03:23:07.681788Z"
    }
   },
   "id": "ed260fecd51c260a"
  },
  {
   "cell_type": "markdown",
   "source": [
    "We obtain the following result:"
   ],
   "metadata": {
    "collapsed": false
   },
   "id": "8d261758fbcaff26"
  },
  {
   "cell_type": "code",
   "execution_count": 5,
   "outputs": [
    {
     "name": "stdout",
     "output_type": "stream",
     "text": [
      "size X_train: (693, 192)\n",
      "size t_train: (693, 99)\n",
      "\n",
      "size X_test: (297, 192)\n",
      "size t_test: (297, 99)\n"
     ]
    }
   ],
   "source": [
    "print(\"size X_train: \"+str(X_train.shape))\n",
    "print(\"size t_train: \"+str(t_train.shape))\n",
    "print()\n",
    "print(\"size X_test: \"+str(X_test.shape))\n",
    "print(\"size t_test: \"+str(t_test.shape))"
   ],
   "metadata": {
    "collapsed": false,
    "ExecuteTime": {
     "end_time": "2023-12-08T03:23:09.846193Z",
     "start_time": "2023-12-08T03:23:09.843911Z"
    }
   },
   "id": "4597901c2f18a2d9"
  },
  {
   "cell_type": "markdown",
   "source": [
    "## Model declaration"
   ],
   "metadata": {
    "collapsed": false
   },
   "id": "e2aa501915dc8e9c"
  },
  {
   "cell_type": "code",
   "execution_count": 8,
   "outputs": [
    {
     "name": "stdout",
     "output_type": "stream",
     "text": [
      "accuracy of 98.56% for the training set\n"
     ]
    }
   ],
   "source": [
    "model = MLPClassifier(random_state=1, max_iter=3000, hidden_layer_sizes=(96, 96), tol=1e-3)\n",
    "model.fit(X_train, t_train)\n",
    "print(\"accuracy of {:.2f}% for the training set\".format(model.score(X_train, t_train)*100))"
   ],
   "metadata": {
    "collapsed": false,
    "ExecuteTime": {
     "end_time": "2023-12-08T03:24:35.358711Z",
     "start_time": "2023-12-08T03:24:26.988816Z"
    }
   },
   "id": "223449511917d472"
  },
  {
   "cell_type": "code",
   "execution_count": 10,
   "outputs": [
    {
     "name": "stdout",
     "output_type": "stream",
     "text": [
      "accuracy of 70.37% for the test set\n"
     ]
    }
   ],
   "source": [
    "print(\"accuracy of {:.2f}% for the test set\".format(model.score(X_test, t_test)*100))"
   ],
   "metadata": {
    "collapsed": false,
    "ExecuteTime": {
     "end_time": "2023-12-08T03:25:01.027809Z",
     "start_time": "2023-12-08T03:25:01.009018Z"
    }
   },
   "id": "3b28e77e11ef8948"
  },
  {
   "cell_type": "markdown",
   "source": [
    "The MLP with scikit-learn take a lot of time to converge which will make very difficult the optimization of the hyperparameters. To have more control with the MLP, we decide to switch with an implementation of the MLP with PyTorch. Thus, allowing us to have more control in our creation of the MLP."
   ],
   "metadata": {
    "collapsed": false
   },
   "id": "326da3f5207c8ac7"
  },
  {
   "cell_type": "code",
   "execution_count": null,
   "outputs": [],
   "source": [],
   "metadata": {
    "collapsed": false
   },
   "id": "ce7767b294b16837"
  }
 ],
 "metadata": {
  "kernelspec": {
   "display_name": "Python 3",
   "language": "python",
   "name": "python3"
  },
  "language_info": {
   "codemirror_mode": {
    "name": "ipython",
    "version": 2
   },
   "file_extension": ".py",
   "mimetype": "text/x-python",
   "name": "python",
   "nbconvert_exporter": "python",
   "pygments_lexer": "ipython2",
   "version": "2.7.6"
  }
 },
 "nbformat": 4,
 "nbformat_minor": 5
}
